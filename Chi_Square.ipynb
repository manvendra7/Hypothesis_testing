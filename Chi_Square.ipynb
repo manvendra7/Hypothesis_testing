{
  "nbformat": 4,
  "nbformat_minor": 0,
  "metadata": {
    "colab": {
      "name": "Chi_Square",
      "provenance": [],
      "collapsed_sections": [],
      "mount_file_id": "1lH--JEom4IUQmUs0eM5081acPUIvQRhH",
      "authorship_tag": "ABX9TyNHlxd5EKh1QTTmYdGHt6qz"
    },
    "kernelspec": {
      "name": "python3",
      "display_name": "Python 3"
    }
  },
  "cells": [
    {
      "cell_type": "code",
      "metadata": {
        "id": "clKhoGSj7gfC",
        "colab_type": "code",
        "colab": {}
      },
      "source": [
        "import pandas as pd #import pandas \n",
        "import numpy as np  #import numpy\n",
        "import matplotlib.pyplot as plt #import matplotlib\n",
        "from scipy.stats import chi2_contingency #import chi2_contigency for chi2 independency tet\n",
        "from matplotlib import style\n",
        "style.use('ggplot')"
      ],
      "execution_count": 0,
      "outputs": []
    },
    {
      "cell_type": "code",
      "metadata": {
        "id": "xgov1TNP7mwf",
        "colab_type": "code",
        "colab": {}
      },
      "source": [
        "df = pd.read_csv('/content/drive/My Drive/data_set/E-commerce.csv')  #read the data"
      ],
      "execution_count": 0,
      "outputs": []
    },
    {
      "cell_type": "code",
      "metadata": {
        "id": "crEKv04B7m0v",
        "colab_type": "code",
        "outputId": "f51b323f-e38a-4688-a202-00855485dd84",
        "colab": {
          "base_uri": "https://localhost:8080/",
          "height": 34
        }
      },
      "source": [
        "df.shape  #check shape of the data"
      ],
      "execution_count": 0,
      "outputs": [
        {
          "output_type": "execute_result",
          "data": {
            "text/plain": [
              "(23472, 9)"
            ]
          },
          "metadata": {
            "tags": []
          },
          "execution_count": 3
        }
      ]
    },
    {
      "cell_type": "code",
      "metadata": {
        "id": "3Rj_1fR57m4m",
        "colab_type": "code",
        "outputId": "3a6c4b98-116d-4ac0-b79d-65d05467bb1f",
        "colab": {
          "base_uri": "https://localhost:8080/",
          "height": 204
        }
      },
      "source": [
        "df.head()  #check head of the data"
      ],
      "execution_count": 0,
      "outputs": [
        {
          "output_type": "execute_result",
          "data": {
            "text/html": [
              "<div>\n",
              "<style scoped>\n",
              "    .dataframe tbody tr th:only-of-type {\n",
              "        vertical-align: middle;\n",
              "    }\n",
              "\n",
              "    .dataframe tbody tr th {\n",
              "        vertical-align: top;\n",
              "    }\n",
              "\n",
              "    .dataframe thead th {\n",
              "        text-align: right;\n",
              "    }\n",
              "</style>\n",
              "<table border=\"1\" class=\"dataframe\">\n",
              "  <thead>\n",
              "    <tr style=\"text-align: right;\">\n",
              "      <th></th>\n",
              "      <th>Unnamed: 0</th>\n",
              "      <th>Clothing ID</th>\n",
              "      <th>Age</th>\n",
              "      <th>Rating</th>\n",
              "      <th>Recommended IND</th>\n",
              "      <th>Positive Feedback Count</th>\n",
              "      <th>Division Name</th>\n",
              "      <th>Department Name</th>\n",
              "      <th>Class Name</th>\n",
              "    </tr>\n",
              "  </thead>\n",
              "  <tbody>\n",
              "    <tr>\n",
              "      <th>0</th>\n",
              "      <td>0</td>\n",
              "      <td>767</td>\n",
              "      <td>33</td>\n",
              "      <td>4</td>\n",
              "      <td>1</td>\n",
              "      <td>0</td>\n",
              "      <td>Initmates</td>\n",
              "      <td>Intimate</td>\n",
              "      <td>Intimates</td>\n",
              "    </tr>\n",
              "    <tr>\n",
              "      <th>1</th>\n",
              "      <td>1</td>\n",
              "      <td>1080</td>\n",
              "      <td>34</td>\n",
              "      <td>5</td>\n",
              "      <td>1</td>\n",
              "      <td>4</td>\n",
              "      <td>General</td>\n",
              "      <td>Dresses</td>\n",
              "      <td>Dresses</td>\n",
              "    </tr>\n",
              "    <tr>\n",
              "      <th>2</th>\n",
              "      <td>2</td>\n",
              "      <td>1077</td>\n",
              "      <td>60</td>\n",
              "      <td>3</td>\n",
              "      <td>0</td>\n",
              "      <td>0</td>\n",
              "      <td>General</td>\n",
              "      <td>Dresses</td>\n",
              "      <td>Dresses</td>\n",
              "    </tr>\n",
              "    <tr>\n",
              "      <th>3</th>\n",
              "      <td>3</td>\n",
              "      <td>1049</td>\n",
              "      <td>50</td>\n",
              "      <td>5</td>\n",
              "      <td>1</td>\n",
              "      <td>0</td>\n",
              "      <td>General Petite</td>\n",
              "      <td>Bottoms</td>\n",
              "      <td>Pants</td>\n",
              "    </tr>\n",
              "    <tr>\n",
              "      <th>4</th>\n",
              "      <td>4</td>\n",
              "      <td>847</td>\n",
              "      <td>47</td>\n",
              "      <td>5</td>\n",
              "      <td>1</td>\n",
              "      <td>6</td>\n",
              "      <td>General</td>\n",
              "      <td>Tops</td>\n",
              "      <td>Blouses</td>\n",
              "    </tr>\n",
              "  </tbody>\n",
              "</table>\n",
              "</div>"
            ],
            "text/plain": [
              "   Unnamed: 0  Clothing ID  Age  ...   Division Name  Department Name  Class Name\n",
              "0           0          767   33  ...       Initmates         Intimate   Intimates\n",
              "1           1         1080   34  ...         General          Dresses     Dresses\n",
              "2           2         1077   60  ...         General          Dresses     Dresses\n",
              "3           3         1049   50  ...  General Petite          Bottoms       Pants\n",
              "4           4          847   47  ...         General             Tops     Blouses\n",
              "\n",
              "[5 rows x 9 columns]"
            ]
          },
          "metadata": {
            "tags": []
          },
          "execution_count": 4
        }
      ]
    },
    {
      "cell_type": "code",
      "metadata": {
        "id": "fBMTDaPg7m7r",
        "colab_type": "code",
        "colab": {}
      },
      "source": [
        "df.drop('Unnamed: 0',axis=1,inplace=True)  #drop Unnamed: 0 column"
      ],
      "execution_count": 0,
      "outputs": []
    },
    {
      "cell_type": "code",
      "metadata": {
        "id": "puZdmRvP7m-4",
        "colab_type": "code",
        "outputId": "374ac8c4-2ca8-40bb-e7f3-c60fa3c92abc",
        "colab": {
          "base_uri": "https://localhost:8080/",
          "height": 85
        }
      },
      "source": [
        "df.columns   #check columns"
      ],
      "execution_count": 0,
      "outputs": [
        {
          "output_type": "execute_result",
          "data": {
            "text/plain": [
              "Index(['Clothing ID', 'Age', 'Rating', 'Recommended IND',\n",
              "       'Positive Feedback Count', 'Division Name', 'Department Name',\n",
              "       'Class Name'],\n",
              "      dtype='object')"
            ]
          },
          "metadata": {
            "tags": []
          },
          "execution_count": 7
        }
      ]
    },
    {
      "cell_type": "code",
      "metadata": {
        "id": "wVtNOYp47nCN",
        "colab_type": "code",
        "outputId": "c8da284e-fc73-4690-cf19-3435e89b4ca3",
        "colab": {
          "base_uri": "https://localhost:8080/",
          "height": 170
        }
      },
      "source": [
        "df.isnull().sum()"
      ],
      "execution_count": 0,
      "outputs": [
        {
          "output_type": "execute_result",
          "data": {
            "text/plain": [
              "Clothing ID                0\n",
              "Age                        0\n",
              "Rating                     0\n",
              "Recommended IND            0\n",
              "Positive Feedback Count    0\n",
              "Division Name              0\n",
              "Department Name            0\n",
              "Class Name                 0\n",
              "dtype: int64"
            ]
          },
          "metadata": {
            "tags": []
          },
          "execution_count": 8
        }
      ]
    },
    {
      "cell_type": "markdown",
      "metadata": {
        "id": "TkleQMzbDIqC",
        "colab_type": "text"
      },
      "source": [
        "Here we will work only with 2 columns Recommended IND and Ratings. "
      ]
    },
    {
      "cell_type": "markdown",
      "metadata": {
        "id": "fabux0fFDRbO",
        "colab_type": "text"
      },
      "source": [
        "We want to check whether the website recommendations are independent of ratings or not."
      ]
    },
    {
      "cell_type": "code",
      "metadata": {
        "id": "imuYaluz7nFQ",
        "colab_type": "code",
        "colab": {}
      },
      "source": [
        "df_1 = df[['Rating','Recommended IND']]  #store rating and Recommended IND in df_1"
      ],
      "execution_count": 0,
      "outputs": []
    },
    {
      "cell_type": "code",
      "metadata": {
        "id": "CTsm0GhK7nId",
        "colab_type": "code",
        "outputId": "6d083b74-bd14-4bee-ba80-0123d5213d78",
        "colab": {
          "base_uri": "https://localhost:8080/",
          "height": 204
        }
      },
      "source": [
        "df_1.head()  #check head"
      ],
      "execution_count": 0,
      "outputs": [
        {
          "output_type": "execute_result",
          "data": {
            "text/html": [
              "<div>\n",
              "<style scoped>\n",
              "    .dataframe tbody tr th:only-of-type {\n",
              "        vertical-align: middle;\n",
              "    }\n",
              "\n",
              "    .dataframe tbody tr th {\n",
              "        vertical-align: top;\n",
              "    }\n",
              "\n",
              "    .dataframe thead th {\n",
              "        text-align: right;\n",
              "    }\n",
              "</style>\n",
              "<table border=\"1\" class=\"dataframe\">\n",
              "  <thead>\n",
              "    <tr style=\"text-align: right;\">\n",
              "      <th></th>\n",
              "      <th>Rating</th>\n",
              "      <th>Recommended IND</th>\n",
              "    </tr>\n",
              "  </thead>\n",
              "  <tbody>\n",
              "    <tr>\n",
              "      <th>0</th>\n",
              "      <td>4</td>\n",
              "      <td>1</td>\n",
              "    </tr>\n",
              "    <tr>\n",
              "      <th>1</th>\n",
              "      <td>5</td>\n",
              "      <td>1</td>\n",
              "    </tr>\n",
              "    <tr>\n",
              "      <th>2</th>\n",
              "      <td>3</td>\n",
              "      <td>0</td>\n",
              "    </tr>\n",
              "    <tr>\n",
              "      <th>3</th>\n",
              "      <td>5</td>\n",
              "      <td>1</td>\n",
              "    </tr>\n",
              "    <tr>\n",
              "      <th>4</th>\n",
              "      <td>5</td>\n",
              "      <td>1</td>\n",
              "    </tr>\n",
              "  </tbody>\n",
              "</table>\n",
              "</div>"
            ],
            "text/plain": [
              "   Rating  Recommended IND\n",
              "0       4                1\n",
              "1       5                1\n",
              "2       3                0\n",
              "3       5                1\n",
              "4       5                1"
            ]
          },
          "metadata": {
            "tags": []
          },
          "execution_count": 17
        }
      ]
    },
    {
      "cell_type": "code",
      "metadata": {
        "id": "V1xWbZmI7nLt",
        "colab_type": "code",
        "outputId": "08e8e4cf-1695-4fdb-80a8-6e8b24ceb0e6",
        "colab": {
          "base_uri": "https://localhost:8080/",
          "height": 391
        }
      },
      "source": [
        "#Let's plot and check the frequency of ratings\n",
        "\n",
        "plt.figure(figsize=(12,6))  #set figure size\n",
        "plt.hist(df_1['Rating'])    #plot a histogram\n",
        "plt.xlabel('Ratings')       #set xlabel\n",
        "plt.ylabel('counts')        #set ylabel\n",
        "plt.show()"
      ],
      "execution_count": 0,
      "outputs": [
        {
          "output_type": "display_data",
          "data": {
            "image/png": "[encoded data removed]",
            "text/plain": [
              "<Figure size 864x432 with 1 Axes>"
            ]
          },
          "metadata": {
            "tags": []
          }
        }
      ]
    },
    {
      "cell_type": "markdown",
      "metadata": {
        "id": "UABzCfrmEG-C",
        "colab_type": "text"
      },
      "source": [
        "We can see from the the distribution that most of the product are highly rated.Most are rated grater than 3."
      ]
    },
    {
      "cell_type": "code",
      "metadata": {
        "id": "OEsPvsTa85rf",
        "colab_type": "code",
        "outputId": "0f1ef7ad-bb34-41d6-d453-abde53cf255c",
        "colab": {
          "base_uri": "https://localhost:8080/",
          "height": 142
        }
      },
      "source": [
        "#crosstab to check the rating of the product and whether website recommends or not.\n",
        "cross_tab = pd.crosstab(df_1['Rating'],df_1['Recommended IND']).T\n",
        "cross_tab"
      ],
      "execution_count": 0,
      "outputs": [
        {
          "output_type": "execute_result",
          "data": {
            "text/html": [
              "<div>\n",
              "<style scoped>\n",
              "    .dataframe tbody tr th:only-of-type {\n",
              "        vertical-align: middle;\n",
              "    }\n",
              "\n",
              "    .dataframe tbody tr th {\n",
              "        vertical-align: top;\n",
              "    }\n",
              "\n",
              "    .dataframe thead th {\n",
              "        text-align: right;\n",
              "    }\n",
              "</style>\n",
              "<table border=\"1\" class=\"dataframe\">\n",
              "  <thead>\n",
              "    <tr style=\"text-align: right;\">\n",
              "      <th>Rating</th>\n",
              "      <th>1</th>\n",
              "      <th>2</th>\n",
              "      <th>3</th>\n",
              "      <th>4</th>\n",
              "      <th>5</th>\n",
              "    </tr>\n",
              "    <tr>\n",
              "      <th>Recommended IND</th>\n",
              "      <th></th>\n",
              "      <th></th>\n",
              "      <th></th>\n",
              "      <th></th>\n",
              "      <th></th>\n",
              "    </tr>\n",
              "  </thead>\n",
              "  <tbody>\n",
              "    <tr>\n",
              "      <th>0</th>\n",
              "      <td>826</td>\n",
              "      <td>1471</td>\n",
              "      <td>1682</td>\n",
              "      <td>168</td>\n",
              "      <td>25</td>\n",
              "    </tr>\n",
              "    <tr>\n",
              "      <th>1</th>\n",
              "      <td>16</td>\n",
              "      <td>94</td>\n",
              "      <td>1189</td>\n",
              "      <td>4909</td>\n",
              "      <td>13092</td>\n",
              "    </tr>\n",
              "  </tbody>\n",
              "</table>\n",
              "</div>"
            ],
            "text/plain": [
              "Rating             1     2     3     4      5\n",
              "Recommended IND                              \n",
              "0                826  1471  1682   168     25\n",
              "1                 16    94  1189  4909  13092"
            ]
          },
          "metadata": {
            "tags": []
          },
          "execution_count": 21
        }
      ]
    },
    {
      "cell_type": "markdown",
      "metadata": {
        "id": "_dTZg5qIEf8W",
        "colab_type": "text"
      },
      "source": [
        "As we can see mostly high rated products are recommended by the website. We want statstical method to check whether the website's recommendation are dependent on ratings or not."
      ]
    },
    {
      "cell_type": "code",
      "metadata": {
        "id": "E09D6UJPBopn",
        "colab_type": "code",
        "colab": {}
      },
      "source": [
        "#H0 : Recommended IND is independent of Ratings\n",
        "#H1 : Recommended IND is not independent of Ratings\n",
        "#Alpha : 0.05"
      ],
      "execution_count": 0,
      "outputs": []
    },
    {
      "cell_type": "code",
      "metadata": {
        "id": "iFE0OF5_854C",
        "colab_type": "code",
        "outputId": "3b488264-76f6-454b-aa87-cb55da677dd5",
        "colab": {
          "base_uri": "https://localhost:8080/",
          "height": 68
        }
      },
      "source": [
        "alpha = 0.05\n",
        "\n",
        "stats,p_value,degrees_of_freedom,expected = chi2_contingency(cross_tab)\n",
        "if p_value > alpha:\n",
        "  print(f' Accept Null Hypothesis\\n P-Value is {p_value}\\n Recommendations are Independent of Ratings')\n",
        "else:\n",
        "  print(f' Reject Null Hypothesis\\n P-Value is {p_value}\\n Recommendations are not Independent of Ratings') "
      ],
      "execution_count": 0,
      "outputs": [
        {
          "output_type": "stream",
          "text": [
            " Reject Null Hypothesis\n",
            " P-Value is 0.0\n",
            " Recommendations are not Independent of Ratings\n"
          ],
          "name": "stdout"
        }
      ]
    },
    {
      "cell_type": "markdown",
      "metadata": {
        "id": "4Q2R2iMuFQ2E",
        "colab_type": "text"
      },
      "source": [
        "Chi2 independency test tells us that the Recommendations are not independent of ratings. We can also check it using "
      ]
    },
    {
      "cell_type": "code",
      "metadata": {
        "id": "wra2YsXQ_X2c",
        "colab_type": "code",
        "colab": {}
      },
      "source": [
        "recommended = df_1[df_1['Recommended IND']==1]  #store all the recommended products in a recommended\n",
        "not_recommended = df_1[df_1['Recommended IND']==0]  #store all the not recommended products in a not recommended"
      ],
      "execution_count": 0,
      "outputs": []
    },
    {
      "cell_type": "code",
      "metadata": {
        "id": "JtwvCILTIZbi",
        "colab_type": "code",
        "outputId": "e55d74fe-221b-4f9b-84a1-06b4cdbd5a28",
        "colab": {
          "base_uri": "https://localhost:8080/",
          "height": 119
        }
      },
      "source": [
        "recommended['Rating'].value_counts()  #check the value counts in recommended "
      ],
      "execution_count": 0,
      "outputs": [
        {
          "output_type": "execute_result",
          "data": {
            "text/plain": [
              "5    13092\n",
              "4     4909\n",
              "3     1189\n",
              "2       94\n",
              "1       16\n",
              "Name: Rating, dtype: int64"
            ]
          },
          "metadata": {
            "tags": []
          },
          "execution_count": 43
        }
      ]
    },
    {
      "cell_type": "code",
      "metadata": {
        "id": "TzYo056DIofd",
        "colab_type": "code",
        "outputId": "ef3f8aac-ec99-45e4-abdd-d9bcbbae957f",
        "colab": {
          "base_uri": "https://localhost:8080/",
          "height": 119
        }
      },
      "source": [
        "not_recommended['Rating'].value_counts()  #check the values count in not recommended"
      ],
      "execution_count": 0,
      "outputs": [
        {
          "output_type": "execute_result",
          "data": {
            "text/plain": [
              "3    1682\n",
              "2    1471\n",
              "1     826\n",
              "4     168\n",
              "5      25\n",
              "Name: Rating, dtype: int64"
            ]
          },
          "metadata": {
            "tags": []
          },
          "execution_count": 46
        }
      ]
    },
    {
      "cell_type": "markdown",
      "metadata": {
        "id": "AGPgaMffJPH0",
        "colab_type": "text"
      },
      "source": [
        "Most of the recommended products has higher ratings. And Those which were not recommended have lower rating. Indeed the website recommendation is dependent on ratings."
      ]
    },
    {
      "cell_type": "markdown",
      "metadata": {
        "id": "4mhjy9hFJPSd",
        "colab_type": "text"
      },
      "source": [
        "We can check it visually using histogram as well."
      ]
    },
    {
      "cell_type": "code",
      "metadata": {
        "id": "TYWv7LDSFx5F",
        "colab_type": "code",
        "outputId": "c7ec9e6b-b78b-40fc-be8c-ff4121599462",
        "colab": {
          "base_uri": "https://localhost:8080/",
          "height": 391
        }
      },
      "source": [
        "#plot different histograms for recommended and not recommended ratings\n",
        "fig,(ax1,ax2) = plt.subplots(1,2,figsize=(15,6))\n",
        "recommended['Rating'].hist(ax=ax1)\n",
        "ax1.set_title('Recommended')\n",
        "not_recommended['Rating'].hist(ax=ax2,color='blue')\n",
        "ax2.set_title('Not Recommended')\n",
        "plt.show()"
      ],
      "execution_count": 0,
      "outputs": [
        {
          "output_type": "display_data",
          "data": {
            "image/png": "[encoded data removed]",
            "text/plain": [
              "<Figure size 1080x432 with 2 Axes>"
            ]
          },
          "metadata": {
            "tags": []
          }
        }
      ]
    },
    {
      "cell_type": "markdown",
      "metadata": {
        "id": "p16Tv0EOLsjH",
        "colab_type": "text"
      },
      "source": [
        "It is obvious from the plot that the Recommendation are dependent on Ratings. As we can see in graph the red bars shows that the recommended products has ratings greater than three. And the bars shows that the not recommended products were those which has lower ratings."
      ]
    },
    {
      "cell_type": "code",
      "metadata": {
        "id": "MQUmAOULF7pb",
        "colab_type": "code",
        "colab": {}
      },
      "source": [
        "\n"
      ],
      "execution_count": 0,
      "outputs": []
    }
  ]
}