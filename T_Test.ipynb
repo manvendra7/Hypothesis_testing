{
  "nbformat": 4,
  "nbformat_minor": 0,
  "metadata": {
    "colab": {
      "name": "T_Test.ipynb",
      "provenance": [],
      "collapsed_sections": [],
      "mount_file_id": "1Zgd-sJuj_6oMQ-2qeCFsCeeLdQRCBCCJ",
      "authorship_tag": "ABX9TyMQVmY96TNZc17r23u5MITm"
    },
    "kernelspec": {
      "name": "python3",
      "display_name": "Python 3"
    }
  },
  "cells": [
    {
      "cell_type": "code",
      "metadata": {
        "id": "0obAqiKY3aD_",
        "colab_type": "code",
        "colab": {
          "base_uri": "https://localhost:8080/",
          "height": 221
        },
        "outputId": "65fc3977-8606-402f-e738-092ed8e7aaf2"
      },
      "source": [
        "!pip install researchpy\n",
        " '''combones pandas, scipy.stats and statsmodels to \n",
        "            get more complete information in a single API call'''"
      ],
      "execution_count": 1,
      "outputs": [
        {
          "output_type": "stream",
          "text": [
            "Collecting researchpy\n",
            "  Downloading https://files.pythonhosted.org/packages/c2/e4/6fef21ad13c0b48ccbafba3ad8bd0bd65af0c9eb1aad9a82fec66c9de1ed/researchpy-0.1.9-py3-none-any.whl\n",
            "Requirement already satisfied: scipy in /usr/local/lib/python3.6/dist-packages (from researchpy) (1.4.1)\n",
            "Requirement already satisfied: numpy in /usr/local/lib/python3.6/dist-packages (from researchpy) (1.18.2)\n",
            "Requirement already satisfied: statsmodels in /usr/local/lib/python3.6/dist-packages (from researchpy) (0.10.2)\n",
            "Requirement already satisfied: pandas in /usr/local/lib/python3.6/dist-packages (from researchpy) (0.25.3)\n",
            "Requirement already satisfied: patsy>=0.4.0 in /usr/local/lib/python3.6/dist-packages (from statsmodels->researchpy) (0.5.1)\n",
            "Requirement already satisfied: python-dateutil>=2.6.1 in /usr/local/lib/python3.6/dist-packages (from pandas->researchpy) (2.8.1)\n",
            "Requirement already satisfied: pytz>=2017.2 in /usr/local/lib/python3.6/dist-packages (from pandas->researchpy) (2018.9)\n",
            "Requirement already satisfied: six in /usr/local/lib/python3.6/dist-packages (from patsy>=0.4.0->statsmodels->researchpy) (1.12.0)\n",
            "Installing collected packages: researchpy\n",
            "Successfully installed researchpy-0.1.9\n"
          ],
          "name": "stdout"
        }
      ]
    },
    {
      "cell_type": "code",
      "metadata": {
        "id": "9uERgudGlRsW",
        "colab_type": "code",
        "colab": {}
      },
      "source": [
        "#import all the necessary packages\n",
        "import statsmodels.api as sm\n",
        "import matplotlib.pyplot as plt\n",
        "import seaborn as sns\n",
        "import pandas as pd\n",
        "import numpy as np\n",
        "from sklearn.preprocessing import scale\n",
        "from matplotlib import style\n",
        "style.use('ggplot')\n",
        "\n",
        "import researchpy as rp\n",
        "from scipy import stats"
      ],
      "execution_count": 0,
      "outputs": []
    },
    {
      "cell_type": "code",
      "metadata": {
        "id": "vPhopJM7lR9W",
        "colab_type": "code",
        "colab": {}
      },
      "source": [
        "bike_sharing_data = pd.read_csv('/content/drive/My Drive/hypothesis_exercise_file/02/demos/datasets/bike_sharing_data_processed.csv')"
      ],
      "execution_count": 0,
      "outputs": []
    },
    {
      "cell_type": "code",
      "metadata": {
        "id": "zjcr4YW5lRo4",
        "colab_type": "code",
        "colab": {
          "base_uri": "https://localhost:8080/",
          "height": 51
        },
        "outputId": "68a5f8c6-dab2-4a7b-cdde-83a8090dd6f3"
      },
      "source": [
        "print('Number of rows {}'.format(bike_sharing_data.shape[0]))\n",
        "print('Number of columns {}'.format(bike_sharing_data.shape[1]))"
      ],
      "execution_count": 8,
      "outputs": [
        {
          "output_type": "stream",
          "text": [
            "Number of rows 731\n",
            "Number of columns 7\n"
          ],
          "name": "stdout"
        }
      ]
    },
    {
      "cell_type": "code",
      "metadata": {
        "id": "88WoUBzdqVnJ",
        "colab_type": "code",
        "colab": {
          "base_uri": "https://localhost:8080/",
          "height": 34
        },
        "outputId": "04ba0039-7e6d-4ce9-fc86-50dcd0ca8b0c"
      },
      "source": [
        "#let's check the names of the columns\n",
        "bike_sharing_data.columns"
      ],
      "execution_count": 10,
      "outputs": [
        {
          "output_type": "execute_result",
          "data": {
            "text/plain": [
              "Index(['season', 'mnth', 'holiday', 'workingday', 'weathersit', 'temp', 'cnt'], dtype='object')"
            ]
          },
          "metadata": {
            "tags": []
          },
          "execution_count": 10
        }
      ]
    },
    {
      "cell_type": "code",
      "metadata": {
        "id": "9n-uzLh3lRg1",
        "colab_type": "code",
        "colab": {
          "base_uri": "https://localhost:8080/",
          "height": 204
        },
        "outputId": "178f6da3-3743-4f72-a4df-91e4c76381f4"
      },
      "source": [
        "bike_sharing_data.head(5)  #check the head of the dataset"
      ],
      "execution_count": 9,
      "outputs": [
        {
          "output_type": "execute_result",
          "data": {
            "text/html": [
              "<div>\n",
              "<style scoped>\n",
              "    .dataframe tbody tr th:only-of-type {\n",
              "        vertical-align: middle;\n",
              "    }\n",
              "\n",
              "    .dataframe tbody tr th {\n",
              "        vertical-align: top;\n",
              "    }\n",
              "\n",
              "    .dataframe thead th {\n",
              "        text-align: right;\n",
              "    }\n",
              "</style>\n",
              "<table border=\"1\" class=\"dataframe\">\n",
              "  <thead>\n",
              "    <tr style=\"text-align: right;\">\n",
              "      <th></th>\n",
              "      <th>season</th>\n",
              "      <th>mnth</th>\n",
              "      <th>holiday</th>\n",
              "      <th>workingday</th>\n",
              "      <th>weathersit</th>\n",
              "      <th>temp</th>\n",
              "      <th>cnt</th>\n",
              "    </tr>\n",
              "  </thead>\n",
              "  <tbody>\n",
              "    <tr>\n",
              "      <th>0</th>\n",
              "      <td>1</td>\n",
              "      <td>1</td>\n",
              "      <td>0</td>\n",
              "      <td>0</td>\n",
              "      <td>2</td>\n",
              "      <td>0.344167</td>\n",
              "      <td>985</td>\n",
              "    </tr>\n",
              "    <tr>\n",
              "      <th>1</th>\n",
              "      <td>1</td>\n",
              "      <td>1</td>\n",
              "      <td>0</td>\n",
              "      <td>0</td>\n",
              "      <td>2</td>\n",
              "      <td>0.363478</td>\n",
              "      <td>801</td>\n",
              "    </tr>\n",
              "    <tr>\n",
              "      <th>2</th>\n",
              "      <td>1</td>\n",
              "      <td>1</td>\n",
              "      <td>0</td>\n",
              "      <td>1</td>\n",
              "      <td>1</td>\n",
              "      <td>0.196364</td>\n",
              "      <td>1349</td>\n",
              "    </tr>\n",
              "    <tr>\n",
              "      <th>3</th>\n",
              "      <td>1</td>\n",
              "      <td>1</td>\n",
              "      <td>0</td>\n",
              "      <td>1</td>\n",
              "      <td>1</td>\n",
              "      <td>0.200000</td>\n",
              "      <td>1562</td>\n",
              "    </tr>\n",
              "    <tr>\n",
              "      <th>4</th>\n",
              "      <td>1</td>\n",
              "      <td>1</td>\n",
              "      <td>0</td>\n",
              "      <td>1</td>\n",
              "      <td>1</td>\n",
              "      <td>0.226957</td>\n",
              "      <td>1600</td>\n",
              "    </tr>\n",
              "  </tbody>\n",
              "</table>\n",
              "</div>"
            ],
            "text/plain": [
              "   season  mnth  holiday  workingday  weathersit      temp   cnt\n",
              "0       1     1        0           0           2  0.344167   985\n",
              "1       1     1        0           0           2  0.363478   801\n",
              "2       1     1        0           1           1  0.196364  1349\n",
              "3       1     1        0           1           1  0.200000  1562\n",
              "4       1     1        0           1           1  0.226957  1600"
            ]
          },
          "metadata": {
            "tags": []
          },
          "execution_count": 9
        }
      ]
    },
    {
      "cell_type": "code",
      "metadata": {
        "id": "4qVCHK-JqBbx",
        "colab_type": "code",
        "colab": {
          "base_uri": "https://localhost:8080/",
          "height": 34
        },
        "outputId": "aba0afb9-c390-4788-e86d-f59d9407d7d4"
      },
      "source": [
        "bike_sharing_data['season'].unique() #Unique values in season column"
      ],
      "execution_count": 11,
      "outputs": [
        {
          "output_type": "execute_result",
          "data": {
            "text/plain": [
              "array([1, 2, 3, 4])"
            ]
          },
          "metadata": {
            "tags": []
          },
          "execution_count": 11
        }
      ]
    },
    {
      "cell_type": "code",
      "metadata": {
        "id": "2RbADyFiqBs3",
        "colab_type": "code",
        "colab": {
          "base_uri": "https://localhost:8080/",
          "height": 34
        },
        "outputId": "6ed5243c-c093-430f-fbd4-998c40eab1ee"
      },
      "source": [
        "bike_sharing_data['holiday'].unique() #Unique values in holiday"
      ],
      "execution_count": 12,
      "outputs": [
        {
          "output_type": "execute_result",
          "data": {
            "text/plain": [
              "array([0, 1])"
            ]
          },
          "metadata": {
            "tags": []
          },
          "execution_count": 12
        }
      ]
    },
    {
      "cell_type": "code",
      "metadata": {
        "id": "7JGH6jUbqrmW",
        "colab_type": "code",
        "colab": {
          "base_uri": "https://localhost:8080/",
          "height": 34
        },
        "outputId": "e305ec8b-45a9-46c0-dfe0-dc8c1def92cb"
      },
      "source": [
        "bike_sharing_data['workingday'].unique() #Unique values in workingday"
      ],
      "execution_count": 13,
      "outputs": [
        {
          "output_type": "execute_result",
          "data": {
            "text/plain": [
              "array([0, 1])"
            ]
          },
          "metadata": {
            "tags": []
          },
          "execution_count": 13
        }
      ]
    },
    {
      "cell_type": "code",
      "metadata": {
        "id": "vXcoRXtMqr2E",
        "colab_type": "code",
        "colab": {
          "base_uri": "https://localhost:8080/",
          "height": 34
        },
        "outputId": "5115a518-f971-444a-c249-2a0093cf36e4"
      },
      "source": [
        "bike_sharing_data['weathersit'].unique() #Unique values in weathersit"
      ],
      "execution_count": 14,
      "outputs": [
        {
          "output_type": "execute_result",
          "data": {
            "text/plain": [
              "array([2, 1, 3])"
            ]
          },
          "metadata": {
            "tags": []
          },
          "execution_count": 14
        }
      ]
    },
    {
      "cell_type": "code",
      "metadata": {
        "id": "wAzPthh2qsEA",
        "colab_type": "code",
        "colab": {
          "base_uri": "https://localhost:8080/",
          "height": 170
        },
        "outputId": "cb2f7041-3f75-4ea3-9cbd-365200b150e6"
      },
      "source": [
        "bike_sharing_data['temp'].describe() #Unique values in temp"
      ],
      "execution_count": 17,
      "outputs": [
        {
          "output_type": "execute_result",
          "data": {
            "text/plain": [
              "count    731.000000\n",
              "mean       0.495385\n",
              "std        0.183051\n",
              "min        0.059130\n",
              "25%        0.337083\n",
              "50%        0.498333\n",
              "75%        0.655417\n",
              "max        0.861667\n",
              "Name: temp, dtype: float64"
            ]
          },
          "metadata": {
            "tags": []
          },
          "execution_count": 17
        }
      ]
    },
    {
      "cell_type": "code",
      "metadata": {
        "id": "yBg15FZ3qB4A",
        "colab_type": "code",
        "colab": {
          "base_uri": "https://localhost:8080/",
          "height": 142
        },
        "outputId": "ea5139c2-6b93-4f2d-95e2-6937807e268f"
      },
      "source": [
        "'''We want to perfrom T-test to check whether bike renatl on working day \n",
        "                     and non-working days are stastically significant or not.'''\n",
        "bike_sharing_data.groupby('workingday')['cnt'].describe()"
      ],
      "execution_count": 18,
      "outputs": [
        {
          "output_type": "execute_result",
          "data": {
            "text/html": [
              "<div>\n",
              "<style scoped>\n",
              "    .dataframe tbody tr th:only-of-type {\n",
              "        vertical-align: middle;\n",
              "    }\n",
              "\n",
              "    .dataframe tbody tr th {\n",
              "        vertical-align: top;\n",
              "    }\n",
              "\n",
              "    .dataframe thead th {\n",
              "        text-align: right;\n",
              "    }\n",
              "</style>\n",
              "<table border=\"1\" class=\"dataframe\">\n",
              "  <thead>\n",
              "    <tr style=\"text-align: right;\">\n",
              "      <th></th>\n",
              "      <th>count</th>\n",
              "      <th>mean</th>\n",
              "      <th>std</th>\n",
              "      <th>min</th>\n",
              "      <th>25%</th>\n",
              "      <th>50%</th>\n",
              "      <th>75%</th>\n",
              "      <th>max</th>\n",
              "    </tr>\n",
              "    <tr>\n",
              "      <th>workingday</th>\n",
              "      <th></th>\n",
              "      <th></th>\n",
              "      <th></th>\n",
              "      <th></th>\n",
              "      <th></th>\n",
              "      <th></th>\n",
              "      <th></th>\n",
              "      <th></th>\n",
              "    </tr>\n",
              "  </thead>\n",
              "  <tbody>\n",
              "    <tr>\n",
              "      <th>0</th>\n",
              "      <td>231.0</td>\n",
              "      <td>4330.168831</td>\n",
              "      <td>2052.141245</td>\n",
              "      <td>605.0</td>\n",
              "      <td>2710.50</td>\n",
              "      <td>4459.0</td>\n",
              "      <td>5907.5</td>\n",
              "      <td>8714.0</td>\n",
              "    </tr>\n",
              "    <tr>\n",
              "      <th>1</th>\n",
              "      <td>500.0</td>\n",
              "      <td>4584.820000</td>\n",
              "      <td>1878.415583</td>\n",
              "      <td>22.0</td>\n",
              "      <td>3344.25</td>\n",
              "      <td>4582.0</td>\n",
              "      <td>5987.5</td>\n",
              "      <td>8362.0</td>\n",
              "    </tr>\n",
              "  </tbody>\n",
              "</table>\n",
              "</div>"
            ],
            "text/plain": [
              "            count         mean          std  ...     50%     75%     max\n",
              "workingday                                   ...                        \n",
              "0           231.0  4330.168831  2052.141245  ...  4459.0  5907.5  8714.0\n",
              "1           500.0  4584.820000  1878.415583  ...  4582.0  5987.5  8362.0\n",
              "\n",
              "[2 rows x 8 columns]"
            ]
          },
          "metadata": {
            "tags": []
          },
          "execution_count": 18
        }
      ]
    },
    {
      "cell_type": "markdown",
      "metadata": {
        "id": "LoDT_xoXsV2f",
        "colab_type": "text"
      },
      "source": [
        "We can see that the mean on working day is 500 whereas mean on Non-working day is 231. We want to check whether this difference is statstically significant or by chance.\n",
        "\n",
        "---\n"
      ]
    },
    {
      "cell_type": "code",
      "metadata": {
        "id": "A2XAPX64uYaA",
        "colab_type": "code",
        "colab": {
          "base_uri": "https://localhost:8080/",
          "height": 391
        },
        "outputId": "3b7a193c-f5dc-4edd-a648-3462ff078c83"
      },
      "source": [
        "plt.figure(figsize=(12,6))\n",
        "sns.boxplot(x='workingday',y='cnt',data=bike_sharing_data)\n",
        "plt.show()"
      ],
      "execution_count": 31,
      "outputs": [
        {
          "output_type": "display_data",
          "data": {
            "image/png": "[encoded data removed]",
            "text/plain": [
              "<Figure size 864x432 with 1 Axes>"
            ]
          },
          "metadata": {
            "tags": []
          }
        }
      ]
    },
    {
      "cell_type": "markdown",
      "metadata": {
        "id": "RvcGrkCavkEA",
        "colab_type": "text"
      },
      "source": [
        "Here we can see that median is almost same for both working and non-working days.\n",
        "\n",
        "---\n",
        "\n"
      ]
    },
    {
      "cell_type": "code",
      "metadata": {
        "id": "znx9gd_urJnc",
        "colab_type": "code",
        "colab": {}
      },
      "source": [
        "#let's create 2 samples 1-for working day and 2- for non-working day\n",
        "sample_01 = bike_sharing_data[(bike_sharing_data['workingday']==1)]\n",
        "sample_02 = bike_sharing_data[(bike_sharing_data['workingday']==0)]"
      ],
      "execution_count": 0,
      "outputs": []
    },
    {
      "cell_type": "code",
      "metadata": {
        "id": "FSRKicbQrJzl",
        "colab_type": "code",
        "colab": {
          "base_uri": "https://localhost:8080/",
          "height": 34
        },
        "outputId": "7f47592f-013c-47ac-9047-0053c294e2af"
      },
      "source": [
        "#let's check the shape of 2 samples\n",
        "sample_01.shape, sample_02.shape"
      ],
      "execution_count": 21,
      "outputs": [
        {
          "output_type": "execute_result",
          "data": {
            "text/plain": [
              "((500, 7), (231, 7))"
            ]
          },
          "metadata": {
            "tags": []
          },
          "execution_count": 21
        }
      ]
    },
    {
      "cell_type": "code",
      "metadata": {
        "id": "q9TzFJkArJ_r",
        "colab_type": "code",
        "colab": {}
      },
      "source": [
        "#Sample_01 1 has 500 records whereas sample_02 has only 231 records\n",
        "#let's make the records in each samples equal\n",
        "sample_01 = sample_01.sample(231)"
      ],
      "execution_count": 0,
      "outputs": []
    },
    {
      "cell_type": "code",
      "metadata": {
        "id": "T2kDcmP4qBYP",
        "colab_type": "code",
        "colab": {
          "base_uri": "https://localhost:8080/",
          "height": 34
        },
        "outputId": "6980874a-4999-452b-faf9-eb54a9842f2f"
      },
      "source": [
        "sample_01.shape, sample_02.shape"
      ],
      "execution_count": 32,
      "outputs": [
        {
          "output_type": "execute_result",
          "data": {
            "text/plain": [
              "((231, 7), (231, 7))"
            ]
          },
          "metadata": {
            "tags": []
          },
          "execution_count": 32
        }
      ]
    },
    {
      "cell_type": "markdown",
      "metadata": {
        "id": "LtLJlKXR1psk",
        "colab_type": "text"
      },
      "source": [
        "### Assumptions of t-test\n",
        "1.   The variances of the 2 samples are equal(We will Levene's test to check it).\n",
        "2.   The distrubtion of the residuals b/w the two groups should follow the normall distribution.\n",
        "We can plot histogram and see whether the distribution follows the normall \n",
        "distribution or not.\n",
        "We can also plot a Q-Q plot.\n",
        "We can check the normality using shapiro-wilks test as well \n"
      ]
    },
    {
      "cell_type": "code",
      "metadata": {
        "id": "6pNA7QwvqBSS",
        "colab_type": "code",
        "colab": {}
      },
      "source": [
        "#Levene's test to check whether the variances of the two group are same.\n",
        "#H0 : Variances are same.\n",
        "#H1 : Variances are not same.\n",
        "#Alpha = 0.05%\n",
        "#if p-value > alpha (Fail to reject H0)\n",
        "#if p-value < alpha (Accept null hypothesis)"
      ],
      "execution_count": 0,
      "outputs": []
    },
    {
      "cell_type": "code",
      "metadata": {
        "id": "dEF7acK0uIrj",
        "colab_type": "code",
        "colab": {
          "base_uri": "https://localhost:8080/",
          "height": 34
        },
        "outputId": "84ee92ae-9dcb-4407-8e04-280adc2c4e60"
      },
      "source": [
        "stats.levene(sample_01['cnt'],sample_02['cnt'])"
      ],
      "execution_count": 33,
      "outputs": [
        {
          "output_type": "execute_result",
          "data": {
            "text/plain": [
              "LeveneResult(statistic=3.613152363485726, pvalue=0.057949136455640794)"
            ]
          },
          "metadata": {
            "tags": []
          },
          "execution_count": 33
        }
      ]
    },
    {
      "cell_type": "markdown",
      "metadata": {
        "id": "-ebou5sl48wV",
        "colab_type": "text"
      },
      "source": [
        "Here we have got 2 things: \n",
        "\n",
        "1.   Test Statistics \n",
        "2.   And p-value assosciated with test stastics.\n",
        "\n",
        "\n",
        "* We can see that p-value(0.0579) > alpha(0.05). So we fail to reject the null hypothesis. Variances of the 2 samples are equal.\n",
        "\n"
      ]
    },
    {
      "cell_type": "code",
      "metadata": {
        "id": "f6WF5sdvuJQB",
        "colab_type": "code",
        "colab": {
          "base_uri": "https://localhost:8080/",
          "height": 68
        },
        "outputId": "24a44567-6c8d-41cf-ac59-47385436ed0b"
      },
      "source": [
        "#let's write the above code in a better way\n",
        "alpha = 0.05\n",
        "statistics,p_value = stats.levene(sample_01['cnt'],sample_02['cnt'])\n",
        "if p_value > alpha:\n",
        "  print('Variance is equal\\n Accept Null hypothesis\\n p-value {}'.format(p_value))\n",
        "else:\n",
        "  print('Reject Null Hypothesis, p-value {}'.format(p_value))"
      ],
      "execution_count": 42,
      "outputs": [
        {
          "output_type": "stream",
          "text": [
            "Variance is equal\n",
            " Accept Null hypothesis\n",
            " p-value 0.057949136455640794\n"
          ],
          "name": "stdout"
        }
      ]
    },
    {
      "cell_type": "markdown",
      "metadata": {
        "id": "Pq4Y2HxI9pUf",
        "colab_type": "text"
      },
      "source": [
        "### Check for Normality"
      ]
    },
    {
      "cell_type": "code",
      "metadata": {
        "id": "kpEKEppVwYoV",
        "colab_type": "code",
        "colab": {
          "base_uri": "https://localhost:8080/",
          "height": 374
        },
        "outputId": "99191b78-8c99-46c4-d478-ca525e40dcf4"
      },
      "source": [
        "diff = scale(np.array(sample_01['cnt'])-np.array(sample_02['cnt'])) #We are taking the difference b/w samples and scaling it (Standardizing it).\n",
        "plt.figure(figsize=(12,6))\n",
        "plt.hist(diff)\n",
        "plt.show()"
      ],
      "execution_count": 48,
      "outputs": [
        {
          "output_type": "display_data",
          "data": {
            "image/png": "[encoded data removed]",
            "text/plain": [
              "<Figure size 864x432 with 1 Axes>"
            ]
          },
          "metadata": {
            "tags": []
          }
        }
      ]
    },
    {
      "cell_type": "markdown",
      "metadata": {
        "id": "UvZpsJXA-1t4",
        "colab_type": "text"
      },
      "source": [
        "The distribution seems normally distributed."
      ]
    },
    {
      "cell_type": "code",
      "metadata": {
        "id": "Abo6F6aXwY3N",
        "colab_type": "code",
        "colab": {
          "base_uri": "https://localhost:8080/",
          "height": 408
        },
        "outputId": "4a2b7633-e0ec-4338-a912-43590e35e37e"
      },
      "source": [
        "# q-q plot to check the normality\n",
        "plt.figure(figsize=(12,6))\n",
        "stats.probplot(diff,plot=plt,dist='norm')\n",
        "plt.show()"
      ],
      "execution_count": 50,
      "outputs": [
        {
          "output_type": "display_data",
          "data": {
            "image/png": "[encoded data removed]",
            "text/plain": [
              "<Figure size 864x432 with 1 Axes>"
            ]
          },
          "metadata": {
            "tags": []
          }
        }
      ]
    },
    {
      "cell_type": "markdown",
      "metadata": {
        "id": "tjLJlAGFAM9Q",
        "colab_type": "text"
      },
      "source": [
        "We can see that the distribution is almost normaly distributed"
      ]
    },
    {
      "cell_type": "code",
      "metadata": {
        "id": "tKGH4FnxwY_Z",
        "colab_type": "code",
        "colab": {}
      },
      "source": [
        "#Stastical test for checking normality\n",
        "#Shapiro-wilk test\n",
        "#H0 : Normally distributed\n",
        "#H1 : Not Normally distributed"
      ],
      "execution_count": 0,
      "outputs": []
    },
    {
      "cell_type": "code",
      "metadata": {
        "id": "SnQkuu21wYkc",
        "colab_type": "code",
        "colab": {
          "base_uri": "https://localhost:8080/",
          "height": 34
        },
        "outputId": "a5903d1b-90c2-433b-9883-b1877f5702df"
      },
      "source": [
        "alpha = 0.05\n",
        "statistic,p_value = stats.shapiro(diff)\n",
        "if p_value > alpha:\n",
        "  print('Accept Null Hypothesis (p-value : {})'.format(p_value))\n",
        "else:\n",
        "  print('Reject Null Hypothesis (p-value {})'.format(p_value))"
      ],
      "execution_count": 53,
      "outputs": [
        {
          "output_type": "stream",
          "text": [
            "Accept Null Hypothesis (p-value : 0.9509395360946655)\n"
          ],
          "name": "stdout"
        }
      ]
    },
    {
      "cell_type": "markdown",
      "metadata": {
        "id": "Lwb1UqGHFTyJ",
        "colab_type": "text"
      },
      "source": [
        "### Independent Sample T-test"
      ]
    },
    {
      "cell_type": "code",
      "metadata": {
        "id": "tpLG_hjm6uM_",
        "colab_type": "code",
        "colab": {
          "base_uri": "https://localhost:8080/",
          "height": 34
        },
        "outputId": "c3f68518-0c6b-4ac0-b310-5726c289998e"
      },
      "source": [
        "stats.ttest_ind(sample_01['cnt'],sample_02['cnt'])"
      ],
      "execution_count": 54,
      "outputs": [
        {
          "output_type": "execute_result",
          "data": {
            "text/plain": [
              "Ttest_indResult(statistic=0.6346691693948295, pvalue=0.5259597289331184)"
            ]
          },
          "metadata": {
            "tags": []
          },
          "execution_count": 54
        }
      ]
    },
    {
      "cell_type": "code",
      "metadata": {
        "id": "sEvDH_a76vPQ",
        "colab_type": "code",
        "colab": {
          "base_uri": "https://localhost:8080/",
          "height": 34
        },
        "outputId": "419847f5-90de-48e5-a367-e22abe740535"
      },
      "source": [
        "# H0 : There's no difference in mean (Bike rental doesn't depends on workingday)\n",
        "# H1 : There's a difference in mean (Bike rental depends on workingday)\n",
        "# Alpha : 0.05%\n",
        "alpha = 0.05\n",
        "statistic , p_value = stats.ttest_ind(sample_01['cnt'],sample_02['cnt'])\n",
        "if p_value > alpha:\n",
        "  print('Fail to reject Null Hypothesis')\n",
        "else:\n",
        "  print('Reject Null Hypothesis')"
      ],
      "execution_count": 55,
      "outputs": [
        {
          "output_type": "stream",
          "text": [
            "Fail to reject Null Hypothesis\n"
          ],
          "name": "stdout"
        }
      ]
    },
    {
      "cell_type": "code",
      "metadata": {
        "id": "VPwB7lag6vhf",
        "colab_type": "code",
        "colab": {}
      },
      "source": [
        "#Now lets use researchpy library and see it's usefullness."
      ],
      "execution_count": 0,
      "outputs": []
    },
    {
      "cell_type": "code",
      "metadata": {
        "id": "DE8ZvKZtH3oc",
        "colab_type": "code",
        "colab": {}
      },
      "source": [
        "descriptives, results = rp.ttest(sample_01['cnt'],sample_02['cnt'])"
      ],
      "execution_count": 0,
      "outputs": []
    },
    {
      "cell_type": "code",
      "metadata": {
        "id": "LeI_Ioi5H37T",
        "colab_type": "code",
        "colab": {
          "base_uri": "https://localhost:8080/",
          "height": 142
        },
        "outputId": "3f54b873-a7b2-42ac-d785-2301e166f59d"
      },
      "source": [
        "descriptives"
      ],
      "execution_count": 63,
      "outputs": [
        {
          "output_type": "execute_result",
          "data": {
            "text/html": [
              "<div>\n",
              "<style scoped>\n",
              "    .dataframe tbody tr th:only-of-type {\n",
              "        vertical-align: middle;\n",
              "    }\n",
              "\n",
              "    .dataframe tbody tr th {\n",
              "        vertical-align: top;\n",
              "    }\n",
              "\n",
              "    .dataframe thead th {\n",
              "        text-align: right;\n",
              "    }\n",
              "</style>\n",
              "<table border=\"1\" class=\"dataframe\">\n",
              "  <thead>\n",
              "    <tr style=\"text-align: right;\">\n",
              "      <th></th>\n",
              "      <th>Variable</th>\n",
              "      <th>N</th>\n",
              "      <th>Mean</th>\n",
              "      <th>SD</th>\n",
              "      <th>SE</th>\n",
              "      <th>95% Conf.</th>\n",
              "      <th>Interval</th>\n",
              "    </tr>\n",
              "  </thead>\n",
              "  <tbody>\n",
              "    <tr>\n",
              "      <th>0</th>\n",
              "      <td>cnt</td>\n",
              "      <td>231.0</td>\n",
              "      <td>4445.831169</td>\n",
              "      <td>1860.264512</td>\n",
              "      <td>122.396419</td>\n",
              "      <td>4204.669616</td>\n",
              "      <td>4686.992722</td>\n",
              "    </tr>\n",
              "    <tr>\n",
              "      <th>1</th>\n",
              "      <td>cnt</td>\n",
              "      <td>231.0</td>\n",
              "      <td>4330.168831</td>\n",
              "      <td>2052.141245</td>\n",
              "      <td>135.020981</td>\n",
              "      <td>4064.132702</td>\n",
              "      <td>4596.204960</td>\n",
              "    </tr>\n",
              "    <tr>\n",
              "      <th>2</th>\n",
              "      <td>combined</td>\n",
              "      <td>462.0</td>\n",
              "      <td>4388.000000</td>\n",
              "      <td>1957.285026</td>\n",
              "      <td>91.061141</td>\n",
              "      <td>4209.053639</td>\n",
              "      <td>4566.946361</td>\n",
              "    </tr>\n",
              "  </tbody>\n",
              "</table>\n",
              "</div>"
            ],
            "text/plain": [
              "   Variable      N         Mean  ...          SE    95% Conf.     Interval\n",
              "0       cnt  231.0  4445.831169  ...  122.396419  4204.669616  4686.992722\n",
              "1       cnt  231.0  4330.168831  ...  135.020981  4064.132702  4596.204960\n",
              "2  combined  462.0  4388.000000  ...   91.061141  4209.053639  4566.946361\n",
              "\n",
              "[3 rows x 7 columns]"
            ]
          },
          "metadata": {
            "tags": []
          },
          "execution_count": 63
        }
      ]
    },
    {
      "cell_type": "code",
      "metadata": {
        "id": "UqPVNn4cI0ib",
        "colab_type": "code",
        "colab": {
          "base_uri": "https://localhost:8080/",
          "height": 359
        },
        "outputId": "adf85512-5f06-4be9-8be5-3a1152016ec9"
      },
      "source": [
        "results"
      ],
      "execution_count": 64,
      "outputs": [
        {
          "output_type": "execute_result",
          "data": {
            "text/html": [
              "<div>\n",
              "<style scoped>\n",
              "    .dataframe tbody tr th:only-of-type {\n",
              "        vertical-align: middle;\n",
              "    }\n",
              "\n",
              "    .dataframe tbody tr th {\n",
              "        vertical-align: top;\n",
              "    }\n",
              "\n",
              "    .dataframe thead th {\n",
              "        text-align: right;\n",
              "    }\n",
              "</style>\n",
              "<table border=\"1\" class=\"dataframe\">\n",
              "  <thead>\n",
              "    <tr style=\"text-align: right;\">\n",
              "      <th></th>\n",
              "      <th>Independent t-test</th>\n",
              "      <th>results</th>\n",
              "    </tr>\n",
              "  </thead>\n",
              "  <tbody>\n",
              "    <tr>\n",
              "      <th>0</th>\n",
              "      <td>Difference (cnt - cnt) =</td>\n",
              "      <td>115.6623</td>\n",
              "    </tr>\n",
              "    <tr>\n",
              "      <th>1</th>\n",
              "      <td>Degrees of freedom =</td>\n",
              "      <td>460.0000</td>\n",
              "    </tr>\n",
              "    <tr>\n",
              "      <th>2</th>\n",
              "      <td>t =</td>\n",
              "      <td>0.6347</td>\n",
              "    </tr>\n",
              "    <tr>\n",
              "      <th>3</th>\n",
              "      <td>Two side test p value =</td>\n",
              "      <td>0.5260</td>\n",
              "    </tr>\n",
              "    <tr>\n",
              "      <th>4</th>\n",
              "      <td>Difference &lt; 0 p value =</td>\n",
              "      <td>0.7370</td>\n",
              "    </tr>\n",
              "    <tr>\n",
              "      <th>5</th>\n",
              "      <td>Difference &gt; 0 p value =</td>\n",
              "      <td>0.2630</td>\n",
              "    </tr>\n",
              "    <tr>\n",
              "      <th>6</th>\n",
              "      <td>Cohen's d =</td>\n",
              "      <td>0.0591</td>\n",
              "    </tr>\n",
              "    <tr>\n",
              "      <th>7</th>\n",
              "      <td>Hedge's g =</td>\n",
              "      <td>0.0590</td>\n",
              "    </tr>\n",
              "    <tr>\n",
              "      <th>8</th>\n",
              "      <td>Glass's delta =</td>\n",
              "      <td>0.0622</td>\n",
              "    </tr>\n",
              "    <tr>\n",
              "      <th>9</th>\n",
              "      <td>r =</td>\n",
              "      <td>0.0296</td>\n",
              "    </tr>\n",
              "  </tbody>\n",
              "</table>\n",
              "</div>"
            ],
            "text/plain": [
              "          Independent t-test   results\n",
              "0  Difference (cnt - cnt) =   115.6623\n",
              "1      Degrees of freedom =   460.0000\n",
              "2                       t =     0.6347\n",
              "3   Two side test p value =     0.5260\n",
              "4  Difference < 0 p value =     0.7370\n",
              "5  Difference > 0 p value =     0.2630\n",
              "6               Cohen's d =     0.0591\n",
              "7               Hedge's g =     0.0590\n",
              "8           Glass's delta =     0.0622\n",
              "9                       r =     0.0296"
            ]
          },
          "metadata": {
            "tags": []
          },
          "execution_count": 64
        }
      ]
    },
    {
      "cell_type": "markdown",
      "metadata": {
        "id": "k_N_gsCIJuw-",
        "colab_type": "text"
      },
      "source": [
        "CONCLUSION : Number of bikes rented is not significantly dependent on whether it is a working day or a non-working day."
      ]
    },
    {
      "cell_type": "code",
      "metadata": {
        "id": "iX6zOFtDJmaL",
        "colab_type": "code",
        "colab": {}
      },
      "source": [
        ""
      ],
      "execution_count": 0,
      "outputs": []
    }
  ]
}