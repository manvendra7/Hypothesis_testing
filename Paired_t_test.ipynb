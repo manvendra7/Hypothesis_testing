{
  "nbformat": 4,
  "nbformat_minor": 0,
  "metadata": {
    "colab": {
      "name": "Paired_t-test.ipynb",
      "provenance": [],
      "collapsed_sections": [],
      "mount_file_id": "18vBiU_ecYWrzFAMRpE2Gx4vAUu4QcANl",
      "authorship_tag": "ABX9TyN8d9Epyj9qho6wWc+wTaVB"
    },
    "kernelspec": {
      "name": "python3",
      "display_name": "Python 3"
    }
  },
  "cells": [
    {
      "cell_type": "code",
      "metadata": {
        "id": "cnRI4t3ywGS6",
        "colab_type": "code",
        "outputId": "a2105dbc-3365-4f1f-9e70-ca7853a393fd",
        "colab": {
          "base_uri": "https://localhost:8080/",
          "height": 221
        }
      },
      "source": [
        "!pip install researchpy"
      ],
      "execution_count": 1,
      "outputs": [
        {
          "output_type": "stream",
          "text": [
            "Collecting researchpy\n",
            "  Downloading https://files.pythonhosted.org/packages/c2/e4/6fef21ad13c0b48ccbafba3ad8bd0bd65af0c9eb1aad9a82fec66c9de1ed/researchpy-0.1.9-py3-none-any.whl\n",
            "Requirement already satisfied: scipy in /usr/local/lib/python3.6/dist-packages (from researchpy) (1.4.1)\n",
            "Requirement already satisfied: statsmodels in /usr/local/lib/python3.6/dist-packages (from researchpy) (0.10.2)\n",
            "Requirement already satisfied: pandas in /usr/local/lib/python3.6/dist-packages (from researchpy) (0.25.3)\n",
            "Requirement already satisfied: numpy in /usr/local/lib/python3.6/dist-packages (from researchpy) (1.18.2)\n",
            "Requirement already satisfied: patsy>=0.4.0 in /usr/local/lib/python3.6/dist-packages (from statsmodels->researchpy) (0.5.1)\n",
            "Requirement already satisfied: python-dateutil>=2.6.1 in /usr/local/lib/python3.6/dist-packages (from pandas->researchpy) (2.8.1)\n",
            "Requirement already satisfied: pytz>=2017.2 in /usr/local/lib/python3.6/dist-packages (from pandas->researchpy) (2018.9)\n",
            "Requirement already satisfied: six in /usr/local/lib/python3.6/dist-packages (from patsy>=0.4.0->statsmodels->researchpy) (1.12.0)\n",
            "Installing collected packages: researchpy\n",
            "Successfully installed researchpy-0.1.9\n"
          ],
          "name": "stdout"
        }
      ]
    },
    {
      "cell_type": "code",
      "metadata": {
        "id": "lWzTVijBwzRX",
        "colab_type": "code",
        "colab": {}
      },
      "source": [
        "#import all the necessary packages\n",
        "import statsmodels.api as sm\n",
        "import pandas as pd\n",
        "import numpy as np\n",
        "import researchpy as rp\n",
        "import matplotlib.pyplot as plt\n",
        "from scipy import stats\n",
        "from sklearn.preprocessing import scale\n",
        "import seaborn as sns\n",
        "from matplotlib import style\n",
        "style.use('ggplot')"
      ],
      "execution_count": 0,
      "outputs": []
    },
    {
      "cell_type": "code",
      "metadata": {
        "id": "yAMHVW3wwzUf",
        "colab_type": "code",
        "colab": {}
      },
      "source": [
        "bp_reading = pd.read_csv('/content/drive/My Drive/hypothesis_exercise_file/02/demos/datasets/blood_pressure.csv')"
      ],
      "execution_count": 0,
      "outputs": []
    },
    {
      "cell_type": "markdown",
      "metadata": {
        "id": "St5EASpnlUPT",
        "colab_type": "text"
      },
      "source": [
        "* THe Dataset contains blood pressure readings before and after an intervention."
      ]
    },
    {
      "cell_type": "code",
      "metadata": {
        "id": "4rwI8QhiwzYx",
        "colab_type": "code",
        "outputId": "bcfefb60-afbe-44a3-a249-e3f1e2193a55",
        "colab": {
          "base_uri": "https://localhost:8080/",
          "height": 34
        }
      },
      "source": [
        "bp_reading.shape  #checking the shape of dataset"
      ],
      "execution_count": 4,
      "outputs": [
        {
          "output_type": "execute_result",
          "data": {
            "text/plain": [
              "(120, 5)"
            ]
          },
          "metadata": {
            "tags": []
          },
          "execution_count": 4
        }
      ]
    },
    {
      "cell_type": "code",
      "metadata": {
        "id": "5VneprQdxROj",
        "colab_type": "code",
        "colab": {
          "base_uri": "https://localhost:8080/",
          "height": 204
        },
        "outputId": "228f06e7-305d-447d-8330-29adf4bc3215"
      },
      "source": [
        "bp_reading.head(5) #check the head of the Dataset"
      ],
      "execution_count": 5,
      "outputs": [
        {
          "output_type": "execute_result",
          "data": {
            "text/html": [
              "<div>\n",
              "<style scoped>\n",
              "    .dataframe tbody tr th:only-of-type {\n",
              "        vertical-align: middle;\n",
              "    }\n",
              "\n",
              "    .dataframe tbody tr th {\n",
              "        vertical-align: top;\n",
              "    }\n",
              "\n",
              "    .dataframe thead th {\n",
              "        text-align: right;\n",
              "    }\n",
              "</style>\n",
              "<table border=\"1\" class=\"dataframe\">\n",
              "  <thead>\n",
              "    <tr style=\"text-align: right;\">\n",
              "      <th></th>\n",
              "      <th>patient</th>\n",
              "      <th>sex</th>\n",
              "      <th>agegrp</th>\n",
              "      <th>bp_before</th>\n",
              "      <th>bp_after</th>\n",
              "    </tr>\n",
              "  </thead>\n",
              "  <tbody>\n",
              "    <tr>\n",
              "      <th>0</th>\n",
              "      <td>1</td>\n",
              "      <td>Male</td>\n",
              "      <td>30-45</td>\n",
              "      <td>143</td>\n",
              "      <td>153</td>\n",
              "    </tr>\n",
              "    <tr>\n",
              "      <th>1</th>\n",
              "      <td>2</td>\n",
              "      <td>Male</td>\n",
              "      <td>30-45</td>\n",
              "      <td>163</td>\n",
              "      <td>170</td>\n",
              "    </tr>\n",
              "    <tr>\n",
              "      <th>2</th>\n",
              "      <td>3</td>\n",
              "      <td>Male</td>\n",
              "      <td>30-45</td>\n",
              "      <td>153</td>\n",
              "      <td>168</td>\n",
              "    </tr>\n",
              "    <tr>\n",
              "      <th>3</th>\n",
              "      <td>4</td>\n",
              "      <td>Male</td>\n",
              "      <td>30-45</td>\n",
              "      <td>153</td>\n",
              "      <td>142</td>\n",
              "    </tr>\n",
              "    <tr>\n",
              "      <th>4</th>\n",
              "      <td>5</td>\n",
              "      <td>Male</td>\n",
              "      <td>30-45</td>\n",
              "      <td>146</td>\n",
              "      <td>141</td>\n",
              "    </tr>\n",
              "  </tbody>\n",
              "</table>\n",
              "</div>"
            ],
            "text/plain": [
              "   patient   sex agegrp  bp_before  bp_after\n",
              "0        1  Male  30-45        143       153\n",
              "1        2  Male  30-45        163       170\n",
              "2        3  Male  30-45        153       168\n",
              "3        4  Male  30-45        153       142\n",
              "4        5  Male  30-45        146       141"
            ]
          },
          "metadata": {
            "tags": []
          },
          "execution_count": 5
        }
      ]
    },
    {
      "cell_type": "code",
      "metadata": {
        "id": "3zyxvkwrxRTT",
        "colab_type": "code",
        "colab": {
          "base_uri": "https://localhost:8080/",
          "height": 142
        },
        "outputId": "a2e24a42-745b-4a45-d770-728a08b7e2d4"
      },
      "source": [
        "bp_reading.describe().T #checking the description of the data"
      ],
      "execution_count": 6,
      "outputs": [
        {
          "output_type": "execute_result",
          "data": {
            "text/html": [
              "<div>\n",
              "<style scoped>\n",
              "    .dataframe tbody tr th:only-of-type {\n",
              "        vertical-align: middle;\n",
              "    }\n",
              "\n",
              "    .dataframe tbody tr th {\n",
              "        vertical-align: top;\n",
              "    }\n",
              "\n",
              "    .dataframe thead th {\n",
              "        text-align: right;\n",
              "    }\n",
              "</style>\n",
              "<table border=\"1\" class=\"dataframe\">\n",
              "  <thead>\n",
              "    <tr style=\"text-align: right;\">\n",
              "      <th></th>\n",
              "      <th>count</th>\n",
              "      <th>mean</th>\n",
              "      <th>std</th>\n",
              "      <th>min</th>\n",
              "      <th>25%</th>\n",
              "      <th>50%</th>\n",
              "      <th>75%</th>\n",
              "      <th>max</th>\n",
              "    </tr>\n",
              "  </thead>\n",
              "  <tbody>\n",
              "    <tr>\n",
              "      <th>patient</th>\n",
              "      <td>120.0</td>\n",
              "      <td>60.500000</td>\n",
              "      <td>34.785054</td>\n",
              "      <td>1.0</td>\n",
              "      <td>30.75</td>\n",
              "      <td>60.5</td>\n",
              "      <td>90.25</td>\n",
              "      <td>120.0</td>\n",
              "    </tr>\n",
              "    <tr>\n",
              "      <th>bp_before</th>\n",
              "      <td>120.0</td>\n",
              "      <td>156.450000</td>\n",
              "      <td>11.389845</td>\n",
              "      <td>138.0</td>\n",
              "      <td>147.00</td>\n",
              "      <td>154.5</td>\n",
              "      <td>164.00</td>\n",
              "      <td>185.0</td>\n",
              "    </tr>\n",
              "    <tr>\n",
              "      <th>bp_after</th>\n",
              "      <td>120.0</td>\n",
              "      <td>151.358333</td>\n",
              "      <td>14.177622</td>\n",
              "      <td>125.0</td>\n",
              "      <td>140.75</td>\n",
              "      <td>149.5</td>\n",
              "      <td>161.00</td>\n",
              "      <td>185.0</td>\n",
              "    </tr>\n",
              "  </tbody>\n",
              "</table>\n",
              "</div>"
            ],
            "text/plain": [
              "           count        mean        std    min     25%    50%     75%    max\n",
              "patient    120.0   60.500000  34.785054    1.0   30.75   60.5   90.25  120.0\n",
              "bp_before  120.0  156.450000  11.389845  138.0  147.00  154.5  164.00  185.0\n",
              "bp_after   120.0  151.358333  14.177622  125.0  140.75  149.5  161.00  185.0"
            ]
          },
          "metadata": {
            "tags": []
          },
          "execution_count": 6
        }
      ]
    },
    {
      "cell_type": "markdown",
      "metadata": {
        "id": "ghH1KqugmWVW",
        "colab_type": "text"
      },
      "source": [
        "Here we can see that mean bwforw intervention was 156.45 and mean after intervention is 151.36. We want to check is the difference in the mean statstically significant or not."
      ]
    },
    {
      "cell_type": "code",
      "metadata": {
        "id": "bgXEB6h1xRbT",
        "colab_type": "code",
        "colab": {
          "base_uri": "https://localhost:8080/",
          "height": 375
        },
        "outputId": "e7a018d0-9138-41cc-b8b6-c4650509f3f5"
      },
      "source": [
        "bp_reading[['bp_before','bp_after']].boxplot(figsize=(12,6)) #checkingthe description of data visually\n",
        "plt.show()"
      ],
      "execution_count": 11,
      "outputs": [
        {
          "output_type": "display_data",
          "data": {
            "image/png": "[encoded data removed]",
            "text/plain": [
              "<Figure size 864x432 with 1 Axes>"
            ]
          },
          "metadata": {
            "tags": []
          }
        }
      ]
    },
    {
      "cell_type": "markdown",
      "metadata": {
        "id": "yc7V3lMMn4CI",
        "colab_type": "text"
      },
      "source": [
        "##Check the Assumptions for T-Test"
      ]
    },
    {
      "cell_type": "code",
      "metadata": {
        "id": "McBmhBKFxRlG",
        "colab_type": "code",
        "colab": {}
      },
      "source": [
        "#levene's test to check the assumption of equal variance\n",
        "#H0 : Variances are equal\n",
        "#H1 : Variances are not equal\n",
        "#Alpha : 0.05"
      ],
      "execution_count": 0,
      "outputs": []
    },
    {
      "cell_type": "code",
      "metadata": {
        "id": "pK8dV6r4n1hV",
        "colab_type": "code",
        "colab": {
          "base_uri": "https://localhost:8080/",
          "height": 51
        },
        "outputId": "4fa927a9-3047-4951-eb41-885695989719"
      },
      "source": [
        "alpha = 0.05\n",
        "statisctics,p_value = stats.levene(bp_reading['bp_before'],bp_reading['bp_after'])\n",
        "if p_value > alpha:\n",
        "  print('Fail to Reject H0.\\n Variances are equall')\n",
        "else:\n",
        "  print('Reject H0.\\n Variances are not equall')"
      ],
      "execution_count": 20,
      "outputs": [
        {
          "output_type": "stream",
          "text": [
            "Reject H0.\n",
            " Variances are not equall\n"
          ],
          "name": "stdout"
        }
      ]
    },
    {
      "cell_type": "code",
      "metadata": {
        "id": "_gA9Ngjmn1mV",
        "colab_type": "code",
        "colab": {}
      },
      "source": [
        "##Check for normality"
      ],
      "execution_count": 0,
      "outputs": []
    },
    {
      "cell_type": "code",
      "metadata": {
        "id": "ILDYjReMn1uF",
        "colab_type": "code",
        "colab": {}
      },
      "source": [
        "#compute difference b/w bp_before and bp_after\n",
        "#scale the difference \n",
        "#plot histogram"
      ],
      "execution_count": 0,
      "outputs": []
    },
    {
      "cell_type": "code",
      "metadata": {
        "id": "RWfq4U8cojVY",
        "colab_type": "code",
        "colab": {
          "base_uri": "https://localhost:8080/",
          "height": 375
        },
        "outputId": "09aa1fbd-c18d-4756-fb47-f7044963df39"
      },
      "source": [
        "bp_reading['diff'] = scale(bp_reading['bp_before'] - bp_reading['bp_after'])\n",
        "plt.figure(figsize=(12,6))\n",
        "plt.hist(bp_reading['diff'])\n",
        "plt.show()"
      ],
      "execution_count": 25,
      "outputs": [
        {
          "output_type": "display_data",
          "data": {
            "image/png": "[encoded data removed]",
            "text/plain": [
              "<Figure size 864x432 with 1 Axes>"
            ]
          },
          "metadata": {
            "tags": []
          }
        }
      ]
    },
    {
      "cell_type": "markdown",
      "metadata": {
        "id": "aUCDkoC4szTZ",
        "colab_type": "text"
      },
      "source": [
        "Our Distribution is somewhat normally Distributed."
      ]
    },
    {
      "cell_type": "code",
      "metadata": {
        "id": "kMLC3Epeojhl",
        "colab_type": "code",
        "colab": {
          "base_uri": "https://localhost:8080/",
          "height": 408
        },
        "outputId": "4853d279-11e2-4c0f-a633-a3debe49bed0"
      },
      "source": [
        "#check normality using probplot\n",
        "plt.figure(figsize=(12,6))\n",
        "stats.probplot(bp_reading['diff'],plot=plt,dist='norm')\n",
        "plt.show()"
      ],
      "execution_count": 26,
      "outputs": [
        {
          "output_type": "display_data",
          "data": {
            "image/png": "[encoded data removed]",
            "text/plain": [
              "<Figure size 864x432 with 1 Axes>"
            ]
          },
          "metadata": {
            "tags": []
          }
        }
      ]
    },
    {
      "cell_type": "code",
      "metadata": {
        "id": "x19QRsg9uzAS",
        "colab_type": "code",
        "colab": {
          "base_uri": "https://localhost:8080/",
          "height": 51
        },
        "outputId": "e8b65566-3f1c-4a63-c710-143c9dac4394"
      },
      "source": [
        "#Let's use shapiro-wilk test to check normality\n",
        "#H0 : Residuals are normally distributed\n",
        "#H1 : Residuals are not normally distributed\n",
        "alpha = 0.05\n",
        "statisctics,p_value = stats.shapiro(bp_reading['diff'])\n",
        "if p_value > alpha:\n",
        "  print('Failed to reject null hypothesis \\n P-value: {}'.format(p_value))\n",
        "else:\n",
        "  print('Reject null hypothesis \\n P-value: {}'.format(p_value))"
      ],
      "execution_count": 29,
      "outputs": [
        {
          "output_type": "stream",
          "text": [
            "Failed to reject null hypothesis \n",
            " P-value: 0.7841646671295166\n"
          ],
          "name": "stdout"
        }
      ]
    },
    {
      "cell_type": "markdown",
      "metadata": {
        "id": "S-cd90F-vRD1",
        "colab_type": "text"
      },
      "source": [
        "Shapiro test confirms that the data is normally distributed."
      ]
    },
    {
      "cell_type": "code",
      "metadata": {
        "id": "255o_pO_sOlL",
        "colab_type": "code",
        "colab": {
          "base_uri": "https://localhost:8080/",
          "height": 51
        },
        "outputId": "ac9d7c42-8c69-4a22-f8b6-2c6fe664e251"
      },
      "source": [
        "#H0 : There's no difference in mean(No difference before and after an intervention)\n",
        "#H1 : There's a difference in mean (There is difference before and after an intervention)\n",
        "#Alpha : 0.5\n",
        "statistics,p_value = stats.ttest_rel(bp_reading['bp_after'],bp_reading['bp_before'])\n",
        "if p_value > alpha:\n",
        "  print('Failed to reject H0.\\n P-value{}'.format(p_value))\n",
        "else:\n",
        "  print('Reject H0.\\n P-value{}'.format(p_value))"
      ],
      "execution_count": 31,
      "outputs": [
        {
          "output_type": "stream",
          "text": [
            "Reject H0.\n",
            " P-value0.0011297914644840823\n"
          ],
          "name": "stdout"
        }
      ]
    },
    {
      "cell_type": "markdown",
      "metadata": {
        "id": "DIKauVtkwkuH",
        "colab_type": "text"
      },
      "source": [
        "Here our pvalue is less than alpha so we can reject the H0. It means that there's a difference before and after an intervention. \n",
        "\n",
        "\n",
        "---\n",
        "\n",
        "We performed independent sample ttest though our assumption of equal variance was voilated. When Assumption of equal variance is voilated we use Wilcoxon Signed Rank test. We will use researchpy library to do that.\n"
      ]
    },
    {
      "cell_type": "code",
      "metadata": {
        "id": "Y-7AxzXDsOpA",
        "colab_type": "code",
        "colab": {
          "base_uri": "https://localhost:8080/",
          "height": 235
        },
        "outputId": "2099e95e-b970-4e57-e0a7-e713f40ce793"
      },
      "source": [
        "#here we have assigned the paramter paired = True to pperform paired ttest.\n",
        "#we have specified equal variances = False as using levene's test we got to know the variances are not equal\n",
        "rp.ttest(bp_reading['bp_before'],bp_reading['bp_after'],paired=True, equal_variances=False)"
      ],
      "execution_count": 33,
      "outputs": [
        {
          "output_type": "execute_result",
          "data": {
            "text/html": [
              "<div>\n",
              "<style scoped>\n",
              "    .dataframe tbody tr th:only-of-type {\n",
              "        vertical-align: middle;\n",
              "    }\n",
              "\n",
              "    .dataframe tbody tr th {\n",
              "        vertical-align: top;\n",
              "    }\n",
              "\n",
              "    .dataframe thead th {\n",
              "        text-align: right;\n",
              "    }\n",
              "</style>\n",
              "<table border=\"1\" class=\"dataframe\">\n",
              "  <thead>\n",
              "    <tr style=\"text-align: right;\">\n",
              "      <th></th>\n",
              "      <th>Wilcoxon signed-rank test</th>\n",
              "      <th>results</th>\n",
              "    </tr>\n",
              "  </thead>\n",
              "  <tbody>\n",
              "    <tr>\n",
              "      <th>0</th>\n",
              "      <td>Mean for bp_before =</td>\n",
              "      <td>156.450000</td>\n",
              "    </tr>\n",
              "    <tr>\n",
              "      <th>1</th>\n",
              "      <td>Mean for bp_after =</td>\n",
              "      <td>151.358333</td>\n",
              "    </tr>\n",
              "    <tr>\n",
              "      <th>2</th>\n",
              "      <td>T value =</td>\n",
              "      <td>2234.500000</td>\n",
              "    </tr>\n",
              "    <tr>\n",
              "      <th>3</th>\n",
              "      <td>Z value =</td>\n",
              "      <td>-3.191600</td>\n",
              "    </tr>\n",
              "    <tr>\n",
              "      <th>4</th>\n",
              "      <td>Two sided p value =</td>\n",
              "      <td>0.001400</td>\n",
              "    </tr>\n",
              "    <tr>\n",
              "      <th>5</th>\n",
              "      <td>r =</td>\n",
              "      <td>-0.206000</td>\n",
              "    </tr>\n",
              "  </tbody>\n",
              "</table>\n",
              "</div>"
            ],
            "text/plain": [
              "  Wilcoxon signed-rank test      results\n",
              "0     Mean for bp_before =    156.450000\n",
              "1      Mean for bp_after =    151.358333\n",
              "2                T value =   2234.500000\n",
              "3                Z value =     -3.191600\n",
              "4      Two sided p value =      0.001400\n",
              "5                      r =     -0.206000"
            ]
          },
          "metadata": {
            "tags": []
          },
          "execution_count": 33
        }
      ]
    },
    {
      "cell_type": "markdown",
      "metadata": {
        "id": "ZGgURfVoyzSe",
        "colab_type": "text"
      },
      "source": [
        "As we can see pvalue here is less than alpha. So there's difference in mean before and after an intervention.\n",
        "\n",
        "---\n",
        "\n"
      ]
    },
    {
      "cell_type": "code",
      "metadata": {
        "id": "zLNz0s6UsOsg",
        "colab_type": "code",
        "colab": {}
      },
      "source": [
        ""
      ],
      "execution_count": 0,
      "outputs": []
    }
  ]
}