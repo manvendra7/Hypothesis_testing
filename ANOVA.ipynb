{
  "nbformat": 4,
  "nbformat_minor": 0,
  "metadata": {
    "colab": {
      "name": "ANOVA",
      "provenance": [],
      "collapsed_sections": [],
      "mount_file_id": "1bk7vUkpRhbZ7cBehf0uOSBW1vC6fq_HL",
      "authorship_tag": "ABX9TyNe+iBZKUk+fwvCBun3fQAY"
    },
    "kernelspec": {
      "name": "python3",
      "display_name": "Python 3"
    }
  },
  "cells": [
    {
      "cell_type": "markdown",
      "metadata": {
        "id": "9ugAkv2GsCxG",
        "colab_type": "text"
      },
      "source": [
        "## One-Way Annova\n",
        "When there are more than 2 samples we use ANOVA testing. Anova is used to compare means across different groups. "
      ]
    },
    {
      "cell_type": "markdown",
      "metadata": {
        "id": "1ipHTh1dqoOy",
        "colab_type": "text"
      },
      "source": [
        "For example ----- we want to check whether the average weigth of babies born in 3 different states are similar or different."
      ]
    },
    {
      "cell_type": "markdown",
      "metadata": {
        "id": "wEWcojUFrDj-",
        "colab_type": "text"
      },
      "source": [
        "Before moving forward with any kind of hypothesis testing we should always have a question in our mind. And based on the question we decide the kind of hypothesis testing. And test our hypothesis against it."
      ]
    },
    {
      "cell_type": "markdown",
      "metadata": {
        "id": "vfFEVDA2rXzR",
        "colab_type": "text"
      },
      "source": [
        "Here we will work with the bike sharing data again. The question that we are asking here is ------- are the number of bike rentals similar or different in all 4 seasons."
      ]
    },
    {
      "cell_type": "markdown",
      "metadata": {
        "id": "12fux4p5spM_",
        "colab_type": "text"
      },
      "source": [
        "###Pre-processing\n",
        "We have already looked at preprocessing so here let's dive in directly to hypothesis testing."
      ]
    },
    {
      "cell_type": "code",
      "metadata": {
        "id": "5kTgXnXJg7vB",
        "colab_type": "code",
        "outputId": "8893ed9c-7319-4279-cba1-6675cb9ee45a",
        "colab": {
          "base_uri": "https://localhost:8080/",
          "height": 71
        }
      },
      "source": [
        "#import the libraries\n",
        "import statsmodels.api as sm\n",
        "from statsmodels.formula.api import ols\n",
        "import random\n",
        "import pandas as pd\n",
        "import numpy as np\n",
        "import seaborn as sns\n",
        "import matplotlib.pyplot as plt\n",
        "from sklearn.preprocessing import scale\n",
        "import warnings\n",
        "from scipy import stats\n",
        "%matplotlib inline"
      ],
      "execution_count": 0,
      "outputs": [
        {
          "output_type": "stream",
          "text": [
            "/usr/local/lib/python3.6/dist-packages/statsmodels/tools/_testing.py:19: FutureWarning: pandas.util.testing is deprecated. Use the functions in the public API at pandas.testing instead.\n",
            "  import pandas.util.testing as tm\n"
          ],
          "name": "stderr"
        }
      ]
    },
    {
      "cell_type": "code",
      "metadata": {
        "id": "2DRzpqrPg7zJ",
        "colab_type": "code",
        "colab": {}
      },
      "source": [
        "#read the data\n",
        "df = pd.read_csv('/content/drive/My Drive/data_set/bike_sharing.csv')"
      ],
      "execution_count": 0,
      "outputs": []
    },
    {
      "cell_type": "code",
      "metadata": {
        "id": "B6mS1Je0g7_t",
        "colab_type": "code",
        "colab": {}
      },
      "source": [
        "#drop datetime\n",
        "df.drop(['datetime','atemp'],axis = 1,inplace=True)"
      ],
      "execution_count": 0,
      "outputs": []
    },
    {
      "cell_type": "code",
      "metadata": {
        "id": "T1IH0W497sOF",
        "colab_type": "code",
        "outputId": "9c029e70-49f6-499f-d236-b624d8d95f94",
        "colab": {
          "base_uri": "https://localhost:8080/",
          "height": 102
        }
      },
      "source": [
        "df['weather'].value_counts()"
      ],
      "execution_count": 0,
      "outputs": [
        {
          "output_type": "execute_result",
          "data": {
            "text/plain": [
              "1    7192\n",
              "2    2834\n",
              "3     859\n",
              "4       1\n",
              "Name: weather, dtype: int64"
            ]
          },
          "metadata": {
            "tags": []
          },
          "execution_count": 4
        }
      ]
    },
    {
      "cell_type": "markdown",
      "metadata": {
        "id": "EP312akuw4Nu",
        "colab_type": "text"
      },
      "source": [
        "We have only 1 record in 4th category. We will drop the records of 4th weather situation."
      ]
    },
    {
      "cell_type": "code",
      "metadata": {
        "id": "rmDzE4jQxO_X",
        "colab_type": "code",
        "colab": {}
      },
      "source": [
        "df.drop(df[df['weather']==4].index,axis=0,inplace=True)  #remove the records where weather == 4"
      ],
      "execution_count": 0,
      "outputs": []
    },
    {
      "cell_type": "code",
      "metadata": {
        "id": "cVSAthMQ0WoL",
        "colab_type": "code",
        "outputId": "124518cd-7ee7-49b6-f4ec-f7d97c7f07c0",
        "colab": {
          "base_uri": "https://localhost:8080/",
          "height": 173
        }
      },
      "source": [
        "df.groupby('weather')['count'].describe()  #groupby weather situation and check the description"
      ],
      "execution_count": 0,
      "outputs": [
        {
          "output_type": "execute_result",
          "data": {
            "text/html": [
              "<div>\n",
              "<style scoped>\n",
              "    .dataframe tbody tr th:only-of-type {\n",
              "        vertical-align: middle;\n",
              "    }\n",
              "\n",
              "    .dataframe tbody tr th {\n",
              "        vertical-align: top;\n",
              "    }\n",
              "\n",
              "    .dataframe thead th {\n",
              "        text-align: right;\n",
              "    }\n",
              "</style>\n",
              "<table border=\"1\" class=\"dataframe\">\n",
              "  <thead>\n",
              "    <tr style=\"text-align: right;\">\n",
              "      <th></th>\n",
              "      <th>count</th>\n",
              "      <th>mean</th>\n",
              "      <th>std</th>\n",
              "      <th>min</th>\n",
              "      <th>25%</th>\n",
              "      <th>50%</th>\n",
              "      <th>75%</th>\n",
              "      <th>max</th>\n",
              "    </tr>\n",
              "    <tr>\n",
              "      <th>weather</th>\n",
              "      <th></th>\n",
              "      <th></th>\n",
              "      <th></th>\n",
              "      <th></th>\n",
              "      <th></th>\n",
              "      <th></th>\n",
              "      <th></th>\n",
              "      <th></th>\n",
              "    </tr>\n",
              "  </thead>\n",
              "  <tbody>\n",
              "    <tr>\n",
              "      <th>1</th>\n",
              "      <td>7192.0</td>\n",
              "      <td>205.236791</td>\n",
              "      <td>187.959566</td>\n",
              "      <td>1.0</td>\n",
              "      <td>48.0</td>\n",
              "      <td>161.0</td>\n",
              "      <td>305.0</td>\n",
              "      <td>977.0</td>\n",
              "    </tr>\n",
              "    <tr>\n",
              "      <th>2</th>\n",
              "      <td>2834.0</td>\n",
              "      <td>178.955540</td>\n",
              "      <td>168.366413</td>\n",
              "      <td>1.0</td>\n",
              "      <td>41.0</td>\n",
              "      <td>134.0</td>\n",
              "      <td>264.0</td>\n",
              "      <td>890.0</td>\n",
              "    </tr>\n",
              "    <tr>\n",
              "      <th>3</th>\n",
              "      <td>859.0</td>\n",
              "      <td>118.846333</td>\n",
              "      <td>138.581297</td>\n",
              "      <td>1.0</td>\n",
              "      <td>23.0</td>\n",
              "      <td>71.0</td>\n",
              "      <td>161.0</td>\n",
              "      <td>891.0</td>\n",
              "    </tr>\n",
              "  </tbody>\n",
              "</table>\n",
              "</div>"
            ],
            "text/plain": [
              "          count        mean         std  min   25%    50%    75%    max\n",
              "weather                                                                \n",
              "1        7192.0  205.236791  187.959566  1.0  48.0  161.0  305.0  977.0\n",
              "2        2834.0  178.955540  168.366413  1.0  41.0  134.0  264.0  890.0\n",
              "3         859.0  118.846333  138.581297  1.0  23.0   71.0  161.0  891.0"
            ]
          },
          "metadata": {
            "tags": []
          },
          "execution_count": 6
        }
      ]
    },
    {
      "cell_type": "markdown",
      "metadata": {
        "id": "6B9XafSy0uMs",
        "colab_type": "text"
      },
      "source": [
        "Clearly we can see that the means of 3 groups are very different. But are these differences stastically significant. We will use one-way anova to test whether this difference in mean is stastically significant or not."
      ]
    },
    {
      "cell_type": "markdown",
      "metadata": {
        "id": "G33Qoium7Lrq",
        "colab_type": "text"
      },
      "source": [
        "So the question is does weather situation has any impact on the number of bikes rented or not."
      ]
    },
    {
      "cell_type": "code",
      "metadata": {
        "id": "njcKogPv4p_g",
        "colab_type": "code",
        "outputId": "19996a9a-80d7-447d-e2d5-7f2e2cf8883d",
        "colab": {
          "base_uri": "https://localhost:8080/",
          "height": 68
        }
      },
      "source": [
        "#perfrom one way annova using stats module from scipy library\n",
        "#H0 : There is no difference in the mean\n",
        "#H1 : There is a difference in the mean\n",
        "#Alpha : 0.05\n",
        "\n",
        "alpha = 0.05\n",
        "Stats,p_value = stats.f_oneway(df['count'][df['weather']==1],\n",
        "                               df['count'][df['weather']==2],\n",
        "                               df['count'][df['weather']==3])\n",
        "\n",
        "if p_value > alpha :\n",
        "  print(f' Failed to reject null hypothesis \\n Weather situation have no impact on bike rentals \\n p-value : {p_value}')\n",
        "else:\n",
        "  print(f' Reject null hypothesis \\n Weather situation has impact on bike rentals \\n p-value : {p_value}')"
      ],
      "execution_count": 0,
      "outputs": [
        {
          "output_type": "stream",
          "text": [
            " Reject null hypothesis \n",
            " Weather situation has impact on bike rentals \n",
            " p-value : 4.976448509904196e-43\n"
          ],
          "name": "stdout"
        }
      ]
    },
    {
      "cell_type": "markdown",
      "metadata": {
        "id": "c5wK9zja80-b",
        "colab_type": "text"
      },
      "source": [
        "Here our p-value is less than alpha. Which means that the weather situation impact the number of bike rentals."
      ]
    },
    {
      "cell_type": "markdown",
      "metadata": {
        "id": "Na0dm2RL_Ojk",
        "colab_type": "text"
      },
      "source": [
        "Using one way anova we only know that the Means of the groups are not same. But we don't know which group mean are not same."
      ]
    },
    {
      "cell_type": "markdown",
      "metadata": {
        "id": "RuZ3t91E_gh2",
        "colab_type": "text"
      },
      "source": [
        "We use post-hoc test to find out which group mean are not equal."
      ]
    },
    {
      "cell_type": "markdown",
      "metadata": {
        "id": "VEUlKJTo_x-c",
        "colab_type": "text"
      },
      "source": [
        "###Tukey HSD Post-Hoc-Test"
      ]
    },
    {
      "cell_type": "code",
      "metadata": {
        "id": "Hc4t9XVk5_a0",
        "colab_type": "code",
        "outputId": "7d7dc28f-94f8-4f5b-bd8a-e77d7bd3e0f8",
        "colab": {
          "base_uri": "https://localhost:8080/",
          "height": 153
        }
      },
      "source": [
        "#Use TukeyHSD to know which group mean are not similar.\n",
        "from statsmodels.stats.multicomp import MultiComparison \n",
        "mul_comp = MultiComparison(df['count'],df['weather'])   \n",
        "mul_result = mul_comp.tukeyhsd()\n",
        "print(mul_result) "
      ],
      "execution_count": 0,
      "outputs": [
        {
          "output_type": "stream",
          "text": [
            " Multiple Comparison of Means - Tukey HSD, FWER=0.05  \n",
            "======================================================\n",
            "group1 group2 meandiff p-adj   lower    upper   reject\n",
            "------------------------------------------------------\n",
            "     1      2 -26.2813 0.001  -35.6159 -16.9466   True\n",
            "     1      3 -86.3905 0.001 -101.5842 -71.1968   True\n",
            "     2      3 -60.1092 0.001   -76.502 -43.7164   True\n",
            "------------------------------------------------------\n"
          ],
          "name": "stdout"
        }
      ]
    },
    {
      "cell_type": "markdown",
      "metadata": {
        "id": "DqOUAkCfBRBY",
        "colab_type": "text"
      },
      "source": [
        "If you look at the last column. All the values are Reject = True. which means reject the null (Means are same) hypothesis . The mean of all the groups are significantly different."
      ]
    },
    {
      "cell_type": "markdown",
      "metadata": {
        "id": "lJxJZyiuIXRw",
        "colab_type": "text"
      },
      "source": [
        "##Two Way Anova\n",
        "Two way Anova is used to examine the influence of 2 different independent categorical variable on 1 dependent continuous variable."
      ]
    },
    {
      "cell_type": "markdown",
      "metadata": {
        "id": "G3kbwq77JDz1",
        "colab_type": "text"
      },
      "source": [
        "In two way Annova we have 3 null hypothesis.\n",
        "1. There is no effect on independent variable 1 on dependent variable.\n",
        "2. There is no effect of independent variable 2 on dependent variable.\n",
        "3. There is no interaction between variable 1 and variable 2. "
      ]
    },
    {
      "cell_type": "markdown",
      "metadata": {
        "id": "_ESDlKa4Jskr",
        "colab_type": "text"
      },
      "source": [
        "Before ypothessis testing we perform a regression analysis using the two variables. We will go one step at a time and keep it simple to understand."
      ]
    },
    {
      "cell_type": "markdown",
      "metadata": {
        "id": "LaarCWCGKExH",
        "colab_type": "text"
      },
      "source": [
        "Let's examine whether Season and weather situation has any effect on bike rentals or not. We have 4 seasons and 3 weather situations."
      ]
    },
    {
      "cell_type": "code",
      "metadata": {
        "id": "lneNF5GsA1Ob",
        "colab_type": "code",
        "outputId": "8e6990c1-af89-449c-93b2-313ddada1dd9",
        "colab": {
          "base_uri": "https://localhost:8080/",
          "height": 173
        }
      },
      "source": [
        "#check the description of groups of different weather situations\n",
        "df.groupby('weather')['count'].describe()"
      ],
      "execution_count": 0,
      "outputs": [
        {
          "output_type": "execute_result",
          "data": {
            "text/html": [
              "<div>\n",
              "<style scoped>\n",
              "    .dataframe tbody tr th:only-of-type {\n",
              "        vertical-align: middle;\n",
              "    }\n",
              "\n",
              "    .dataframe tbody tr th {\n",
              "        vertical-align: top;\n",
              "    }\n",
              "\n",
              "    .dataframe thead th {\n",
              "        text-align: right;\n",
              "    }\n",
              "</style>\n",
              "<table border=\"1\" class=\"dataframe\">\n",
              "  <thead>\n",
              "    <tr style=\"text-align: right;\">\n",
              "      <th></th>\n",
              "      <th>count</th>\n",
              "      <th>mean</th>\n",
              "      <th>std</th>\n",
              "      <th>min</th>\n",
              "      <th>25%</th>\n",
              "      <th>50%</th>\n",
              "      <th>75%</th>\n",
              "      <th>max</th>\n",
              "    </tr>\n",
              "    <tr>\n",
              "      <th>weather</th>\n",
              "      <th></th>\n",
              "      <th></th>\n",
              "      <th></th>\n",
              "      <th></th>\n",
              "      <th></th>\n",
              "      <th></th>\n",
              "      <th></th>\n",
              "      <th></th>\n",
              "    </tr>\n",
              "  </thead>\n",
              "  <tbody>\n",
              "    <tr>\n",
              "      <th>1</th>\n",
              "      <td>7192.0</td>\n",
              "      <td>205.236791</td>\n",
              "      <td>187.959566</td>\n",
              "      <td>1.0</td>\n",
              "      <td>48.0</td>\n",
              "      <td>161.0</td>\n",
              "      <td>305.0</td>\n",
              "      <td>977.0</td>\n",
              "    </tr>\n",
              "    <tr>\n",
              "      <th>2</th>\n",
              "      <td>2834.0</td>\n",
              "      <td>178.955540</td>\n",
              "      <td>168.366413</td>\n",
              "      <td>1.0</td>\n",
              "      <td>41.0</td>\n",
              "      <td>134.0</td>\n",
              "      <td>264.0</td>\n",
              "      <td>890.0</td>\n",
              "    </tr>\n",
              "    <tr>\n",
              "      <th>3</th>\n",
              "      <td>859.0</td>\n",
              "      <td>118.846333</td>\n",
              "      <td>138.581297</td>\n",
              "      <td>1.0</td>\n",
              "      <td>23.0</td>\n",
              "      <td>71.0</td>\n",
              "      <td>161.0</td>\n",
              "      <td>891.0</td>\n",
              "    </tr>\n",
              "  </tbody>\n",
              "</table>\n",
              "</div>"
            ],
            "text/plain": [
              "          count        mean         std  min   25%    50%    75%    max\n",
              "weather                                                                \n",
              "1        7192.0  205.236791  187.959566  1.0  48.0  161.0  305.0  977.0\n",
              "2        2834.0  178.955540  168.366413  1.0  41.0  134.0  264.0  890.0\n",
              "3         859.0  118.846333  138.581297  1.0  23.0   71.0  161.0  891.0"
            ]
          },
          "metadata": {
            "tags": []
          },
          "execution_count": 9
        }
      ]
    },
    {
      "cell_type": "markdown",
      "metadata": {
        "id": "sRtFIbMmK67M",
        "colab_type": "text"
      },
      "source": [
        "We had checked it before as well. And have proven that the means are stastically different in weather situations."
      ]
    },
    {
      "cell_type": "code",
      "metadata": {
        "id": "WRlCIReuK1xU",
        "colab_type": "code",
        "outputId": "730478c0-96fb-45a2-fe80-9c0d8c66d203",
        "colab": {
          "base_uri": "https://localhost:8080/",
          "height": 204
        }
      },
      "source": [
        "#check the description of groups of different seasons\n",
        "df.groupby('season')['count'].describe()"
      ],
      "execution_count": 0,
      "outputs": [
        {
          "output_type": "execute_result",
          "data": {
            "text/html": [
              "<div>\n",
              "<style scoped>\n",
              "    .dataframe tbody tr th:only-of-type {\n",
              "        vertical-align: middle;\n",
              "    }\n",
              "\n",
              "    .dataframe tbody tr th {\n",
              "        vertical-align: top;\n",
              "    }\n",
              "\n",
              "    .dataframe thead th {\n",
              "        text-align: right;\n",
              "    }\n",
              "</style>\n",
              "<table border=\"1\" class=\"dataframe\">\n",
              "  <thead>\n",
              "    <tr style=\"text-align: right;\">\n",
              "      <th></th>\n",
              "      <th>count</th>\n",
              "      <th>mean</th>\n",
              "      <th>std</th>\n",
              "      <th>min</th>\n",
              "      <th>25%</th>\n",
              "      <th>50%</th>\n",
              "      <th>75%</th>\n",
              "      <th>max</th>\n",
              "    </tr>\n",
              "    <tr>\n",
              "      <th>season</th>\n",
              "      <th></th>\n",
              "      <th></th>\n",
              "      <th></th>\n",
              "      <th></th>\n",
              "      <th></th>\n",
              "      <th></th>\n",
              "      <th></th>\n",
              "      <th></th>\n",
              "    </tr>\n",
              "  </thead>\n",
              "  <tbody>\n",
              "    <tr>\n",
              "      <th>1</th>\n",
              "      <td>2685.0</td>\n",
              "      <td>116.325512</td>\n",
              "      <td>125.293931</td>\n",
              "      <td>1.0</td>\n",
              "      <td>24.0</td>\n",
              "      <td>78.0</td>\n",
              "      <td>164.0</td>\n",
              "      <td>801.0</td>\n",
              "    </tr>\n",
              "    <tr>\n",
              "      <th>2</th>\n",
              "      <td>2733.0</td>\n",
              "      <td>215.251372</td>\n",
              "      <td>192.007843</td>\n",
              "      <td>1.0</td>\n",
              "      <td>49.0</td>\n",
              "      <td>172.0</td>\n",
              "      <td>321.0</td>\n",
              "      <td>873.0</td>\n",
              "    </tr>\n",
              "    <tr>\n",
              "      <th>3</th>\n",
              "      <td>2733.0</td>\n",
              "      <td>234.417124</td>\n",
              "      <td>197.151001</td>\n",
              "      <td>1.0</td>\n",
              "      <td>68.0</td>\n",
              "      <td>195.0</td>\n",
              "      <td>347.0</td>\n",
              "      <td>977.0</td>\n",
              "    </tr>\n",
              "    <tr>\n",
              "      <th>4</th>\n",
              "      <td>2734.0</td>\n",
              "      <td>198.988296</td>\n",
              "      <td>177.622409</td>\n",
              "      <td>1.0</td>\n",
              "      <td>51.0</td>\n",
              "      <td>161.0</td>\n",
              "      <td>294.0</td>\n",
              "      <td>948.0</td>\n",
              "    </tr>\n",
              "  </tbody>\n",
              "</table>\n",
              "</div>"
            ],
            "text/plain": [
              "         count        mean         std  min   25%    50%    75%    max\n",
              "season                                                                \n",
              "1       2685.0  116.325512  125.293931  1.0  24.0   78.0  164.0  801.0\n",
              "2       2733.0  215.251372  192.007843  1.0  49.0  172.0  321.0  873.0\n",
              "3       2733.0  234.417124  197.151001  1.0  68.0  195.0  347.0  977.0\n",
              "4       2734.0  198.988296  177.622409  1.0  51.0  161.0  294.0  948.0"
            ]
          },
          "metadata": {
            "tags": []
          },
          "execution_count": 10
        }
      ]
    },
    {
      "cell_type": "markdown",
      "metadata": {
        "id": "NlEvj3i8LhhV",
        "colab_type": "text"
      },
      "source": [
        "We can see that the means of the groups are different."
      ]
    },
    {
      "cell_type": "markdown",
      "metadata": {
        "id": "gG0bm2k1MjMK",
        "colab_type": "text"
      },
      "source": [
        "To Perform ANOVA Anlaysis we will first perform regression analysis."
      ]
    },
    {
      "cell_type": "code",
      "metadata": {
        "id": "v7fQP_QPLfM8",
        "colab_type": "code",
        "outputId": "bb26b8ea-8755-4a49-c53c-bab0a9b6c94a",
        "colab": {
          "base_uri": "https://localhost:8080/",
          "height": 612
        }
      },
      "source": [
        "#Perfrom regression analysis with weather situation\n",
        "model = ols('count ~ C(weather) * C(season)',df).fit()  #fit the regression model\n",
        "print(model.summary())  #print summary"
      ],
      "execution_count": 0,
      "outputs": [
        {
          "output_type": "stream",
          "text": [
            "                            OLS Regression Results                            \n",
            "==============================================================================\n",
            "Dep. Variable:                  count   R-squared:                       0.080\n",
            "Model:                            OLS   Adj. R-squared:                  0.079\n",
            "Method:                 Least Squares   F-statistic:                     85.66\n",
            "Date:                Sat, 18 Apr 2020   Prob (F-statistic):          8.63e-187\n",
            "Time:                        07:31:15   Log-Likelihood:                -71587.\n",
            "No. Observations:               10885   AIC:                         1.432e+05\n",
            "Df Residuals:                   10873   BIC:                         1.433e+05\n",
            "Df Model:                          11                                         \n",
            "Covariance Type:            nonrobust                                         \n",
            "==================================================================================================\n",
            "                                     coef    std err          t      P>|t|      [0.025      0.975]\n",
            "--------------------------------------------------------------------------------------------------\n",
            "Intercept                        126.7817      4.146     30.582      0.000     118.656     134.908\n",
            "C(weather)[T.2]                  -19.9202      7.711     -2.583      0.010     -35.036      -4.804\n",
            "C(weather)[T.3]                  -65.5542     12.667     -5.175      0.000     -90.384     -40.724\n",
            "C(season)[T.2]                   109.9479      5.828     18.864      0.000      98.523     121.373\n",
            "C(season)[T.3]                   116.8017      5.731     20.379      0.000     105.567     128.036\n",
            "C(season)[T.4]                    82.7295      5.912     13.994      0.000      71.142      94.317\n",
            "C(weather)[T.2]:C(season)[T.2]   -27.2939     10.906     -2.503      0.012     -48.672      -5.916\n",
            "C(weather)[T.3]:C(season)[T.2]   -47.2691     17.669     -2.675      0.007     -81.904     -12.635\n",
            "C(weather)[T.2]:C(season)[T.3]     7.1083     11.188      0.635      0.525     -14.823      29.039\n",
            "C(weather)[T.3]:C(season)[T.3]   -21.4463     18.112     -1.184      0.236     -56.948      14.056\n",
            "C(weather)[T.2]:C(season)[T.4]     5.1934     10.709      0.485      0.628     -15.799      26.185\n",
            "C(weather)[T.3]:C(season)[T.4]    -9.4903     17.680     -0.537      0.591     -44.146      25.165\n",
            "==============================================================================\n",
            "Omnibus:                     1857.898   Durbin-Watson:                   0.353\n",
            "Prob(Omnibus):                  0.000   Jarque-Bera (JB):             3128.118\n",
            "Skew:                           1.132   Prob(JB):                         0.00\n",
            "Kurtosis:                       4.331   Cond. No.                         19.3\n",
            "==============================================================================\n",
            "\n",
            "Warnings:\n",
            "[1] Standard Errors assume that the covariance matrix of the errors is correctly specified.\n"
          ],
          "name": "stdout"
        }
      ]
    },
    {
      "cell_type": "markdown",
      "metadata": {
        "id": "nNSxEOPfOndb",
        "colab_type": "text"
      },
      "source": [
        "After performing regression analysis. We get 2 tables.\n",
        "\n",
        "---\n",
        "\n",
        "Table - 1 tells us whether the regression was significant or not. And table 2 tells us whether the variable is significant or not."
      ]
    },
    {
      "cell_type": "markdown",
      "metadata": {
        "id": "q5LZmrHeQZ4a",
        "colab_type": "text"
      },
      "source": [
        "By looking at the table-1 we can see that the p-value related with f-statistics is very low. Which means the regression was significant. Similarly when we look at the p-value assosiated with the t-statistic in table-2, we observe that the p-value is almost close to zero for most of the variables."
      ]
    },
    {
      "cell_type": "code",
      "metadata": {
        "id": "w_iYzjxBNQlG",
        "colab_type": "code",
        "outputId": "99e8d69c-0c62-4c99-9c67-7fba609de631",
        "colab": {
          "base_uri": "https://localhost:8080/",
          "height": 173
        }
      },
      "source": [
        "#H0: There's no difference in mean of weather\n",
        "#    There is No difference in Mean of Season\n",
        "#    There is no difference in mean of Weather and Season combined\n",
        "\n",
        "sm.stats.anova_lm(model) ##perform two way anova"
      ],
      "execution_count": 0,
      "outputs": [
        {
          "output_type": "execute_result",
          "data": {
            "text/html": [
              "<div>\n",
              "<style scoped>\n",
              "    .dataframe tbody tr th:only-of-type {\n",
              "        vertical-align: middle;\n",
              "    }\n",
              "\n",
              "    .dataframe tbody tr th {\n",
              "        vertical-align: top;\n",
              "    }\n",
              "\n",
              "    .dataframe thead th {\n",
              "        text-align: right;\n",
              "    }\n",
              "</style>\n",
              "<table border=\"1\" class=\"dataframe\">\n",
              "  <thead>\n",
              "    <tr style=\"text-align: right;\">\n",
              "      <th></th>\n",
              "      <th>df</th>\n",
              "      <th>sum_sq</th>\n",
              "      <th>mean_sq</th>\n",
              "      <th>F</th>\n",
              "      <th>PR(&gt;F)</th>\n",
              "    </tr>\n",
              "  </thead>\n",
              "  <tbody>\n",
              "    <tr>\n",
              "      <th>C(weather)</th>\n",
              "      <td>2.0</td>\n",
              "      <td>6.337309e+06</td>\n",
              "      <td>3.168655e+06</td>\n",
              "      <td>104.818810</td>\n",
              "      <td>8.148093e-46</td>\n",
              "    </tr>\n",
              "    <tr>\n",
              "      <th>C(season)</th>\n",
              "      <td>3.0</td>\n",
              "      <td>2.158708e+07</td>\n",
              "      <td>7.195692e+06</td>\n",
              "      <td>238.032851</td>\n",
              "      <td>1.350921e-149</td>\n",
              "    </tr>\n",
              "    <tr>\n",
              "      <th>C(weather):C(season)</th>\n",
              "      <td>6.0</td>\n",
              "      <td>5.588352e+05</td>\n",
              "      <td>9.313920e+04</td>\n",
              "      <td>3.081036</td>\n",
              "      <td>5.150817e-03</td>\n",
              "    </tr>\n",
              "    <tr>\n",
              "      <th>Residual</th>\n",
              "      <td>10873.0</td>\n",
              "      <td>3.286889e+08</td>\n",
              "      <td>3.022983e+04</td>\n",
              "      <td>NaN</td>\n",
              "      <td>NaN</td>\n",
              "    </tr>\n",
              "  </tbody>\n",
              "</table>\n",
              "</div>"
            ],
            "text/plain": [
              "                           df        sum_sq  ...           F         PR(>F)\n",
              "C(weather)                2.0  6.337309e+06  ...  104.818810   8.148093e-46\n",
              "C(season)                 3.0  2.158708e+07  ...  238.032851  1.350921e-149\n",
              "C(weather):C(season)      6.0  5.588352e+05  ...    3.081036   5.150817e-03\n",
              "Residual              10873.0  3.286889e+08  ...         NaN            NaN\n",
              "\n",
              "[4 rows x 5 columns]"
            ]
          },
          "metadata": {
            "tags": []
          },
          "execution_count": 12
        }
      ]
    },
    {
      "cell_type": "markdown",
      "metadata": {
        "id": "WeNIc0UbNjMb",
        "colab_type": "text"
      },
      "source": [
        "By looking at the p-values i.e the last columns we can see that most of the values are close to zero. So we can say that the means are significantly different. "
      ]
    }
  ]
}