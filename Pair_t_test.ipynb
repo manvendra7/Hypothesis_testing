{
  "nbformat": 4,
  "nbformat_minor": 0,
  "metadata": {
    "colab": {
      "name": "Pair t-test.ipynb",
      "provenance": [],
      "collapsed_sections": [],
      "mount_file_id": "19Ig9ezshRumMe8iiJ5kQq0AwOMC5sq-E",
      "authorship_tag": "ABX9TyPEJiQvwFYog07TkEDRLssX"
    },
    "kernelspec": {
      "name": "python3",
      "display_name": "Python 3"
    }
  },
  "cells": [
    {
      "cell_type": "code",
      "metadata": {
        "id": "pplSVRI6_89s",
        "colab_type": "code",
        "outputId": "e2c880d8-9b69-415d-ab1c-b20b80592cbb",
        "colab": {
          "base_uri": "https://localhost:8080/",
          "height": 221
        }
      },
      "source": [
        "#install researchpy\n",
        "!pip install researchpy"
      ],
      "execution_count": 0,
      "outputs": [
        {
          "output_type": "stream",
          "text": [
            "Collecting researchpy\n",
            "  Downloading https://files.pythonhosted.org/packages/c2/e4/6fef21ad13c0b48ccbafba3ad8bd0bd65af0c9eb1aad9a82fec66c9de1ed/researchpy-0.1.9-py3-none-any.whl\n",
            "Requirement already satisfied: statsmodels in /usr/local/lib/python3.6/dist-packages (from researchpy) (0.10.2)\n",
            "Requirement already satisfied: numpy in /usr/local/lib/python3.6/dist-packages (from researchpy) (1.18.2)\n",
            "Requirement already satisfied: scipy in /usr/local/lib/python3.6/dist-packages (from researchpy) (1.4.1)\n",
            "Requirement already satisfied: pandas in /usr/local/lib/python3.6/dist-packages (from researchpy) (1.0.3)\n",
            "Requirement already satisfied: patsy>=0.4.0 in /usr/local/lib/python3.6/dist-packages (from statsmodels->researchpy) (0.5.1)\n",
            "Requirement already satisfied: python-dateutil>=2.6.1 in /usr/local/lib/python3.6/dist-packages (from pandas->researchpy) (2.8.1)\n",
            "Requirement already satisfied: pytz>=2017.2 in /usr/local/lib/python3.6/dist-packages (from pandas->researchpy) (2018.9)\n",
            "Requirement already satisfied: six in /usr/local/lib/python3.6/dist-packages (from patsy>=0.4.0->statsmodels->researchpy) (1.12.0)\n",
            "Installing collected packages: researchpy\n",
            "Successfully installed researchpy-0.1.9\n"
          ],
          "name": "stdout"
        }
      ]
    },
    {
      "cell_type": "code",
      "metadata": {
        "id": "XJyJ8zVpA4XN",
        "colab_type": "code",
        "colab": {}
      },
      "source": [
        "#import the libraries\n",
        "import statsmodels.api as sm\n",
        "import pandas as pd\n",
        "import numpy as np\n",
        "import seaborn as sns\n",
        "import matplotlib.pyplot as plt\n",
        "from matplotlib import style\n",
        "style.use('ggplot')\n",
        "from sklearn.preprocessing import scale\n",
        "import researchpy as rp\n",
        "import warnings\n",
        "from scipy import stats\n",
        "%matplotlib inline"
      ],
      "execution_count": 0,
      "outputs": []
    },
    {
      "cell_type": "code",
      "metadata": {
        "id": "wr6s4d-AA4a_",
        "colab_type": "code",
        "colab": {}
      },
      "source": [
        "#read dataset\n",
        "df = pd.read_csv('/content/drive/My Drive/data_set/blood_pressure.csv')"
      ],
      "execution_count": 0,
      "outputs": []
    },
    {
      "cell_type": "code",
      "metadata": {
        "id": "AH8jrNwrCQP2",
        "colab_type": "code",
        "outputId": "32d1429e-fa23-4893-82d9-38ba5e0a4879",
        "colab": {
          "base_uri": "https://localhost:8080/",
          "height": 34
        }
      },
      "source": [
        "#check shape\n",
        "df.shape"
      ],
      "execution_count": 0,
      "outputs": [
        {
          "output_type": "execute_result",
          "data": {
            "text/plain": [
              "(120, 5)"
            ]
          },
          "metadata": {
            "tags": []
          },
          "execution_count": 8
        }
      ]
    },
    {
      "cell_type": "code",
      "metadata": {
        "id": "fWtTEYw6A4fr",
        "colab_type": "code",
        "outputId": "e7db0741-c060-4673-e5eb-f3c36a590388",
        "colab": {
          "base_uri": "https://localhost:8080/",
          "height": 204
        }
      },
      "source": [
        "df.head()  #check the head"
      ],
      "execution_count": 0,
      "outputs": [
        {
          "output_type": "execute_result",
          "data": {
            "text/html": [
              "<div>\n",
              "<style scoped>\n",
              "    .dataframe tbody tr th:only-of-type {\n",
              "        vertical-align: middle;\n",
              "    }\n",
              "\n",
              "    .dataframe tbody tr th {\n",
              "        vertical-align: top;\n",
              "    }\n",
              "\n",
              "    .dataframe thead th {\n",
              "        text-align: right;\n",
              "    }\n",
              "</style>\n",
              "<table border=\"1\" class=\"dataframe\">\n",
              "  <thead>\n",
              "    <tr style=\"text-align: right;\">\n",
              "      <th></th>\n",
              "      <th>patient</th>\n",
              "      <th>sex</th>\n",
              "      <th>agegrp</th>\n",
              "      <th>bp_before</th>\n",
              "      <th>bp_after</th>\n",
              "    </tr>\n",
              "  </thead>\n",
              "  <tbody>\n",
              "    <tr>\n",
              "      <th>0</th>\n",
              "      <td>1</td>\n",
              "      <td>Male</td>\n",
              "      <td>30-45</td>\n",
              "      <td>143</td>\n",
              "      <td>153</td>\n",
              "    </tr>\n",
              "    <tr>\n",
              "      <th>1</th>\n",
              "      <td>2</td>\n",
              "      <td>Male</td>\n",
              "      <td>30-45</td>\n",
              "      <td>163</td>\n",
              "      <td>170</td>\n",
              "    </tr>\n",
              "    <tr>\n",
              "      <th>2</th>\n",
              "      <td>3</td>\n",
              "      <td>Male</td>\n",
              "      <td>30-45</td>\n",
              "      <td>153</td>\n",
              "      <td>168</td>\n",
              "    </tr>\n",
              "    <tr>\n",
              "      <th>3</th>\n",
              "      <td>4</td>\n",
              "      <td>Male</td>\n",
              "      <td>30-45</td>\n",
              "      <td>153</td>\n",
              "      <td>142</td>\n",
              "    </tr>\n",
              "    <tr>\n",
              "      <th>4</th>\n",
              "      <td>5</td>\n",
              "      <td>Male</td>\n",
              "      <td>30-45</td>\n",
              "      <td>146</td>\n",
              "      <td>141</td>\n",
              "    </tr>\n",
              "  </tbody>\n",
              "</table>\n",
              "</div>"
            ],
            "text/plain": [
              "   patient   sex agegrp  bp_before  bp_after\n",
              "0        1  Male  30-45        143       153\n",
              "1        2  Male  30-45        163       170\n",
              "2        3  Male  30-45        153       168\n",
              "3        4  Male  30-45        153       142\n",
              "4        5  Male  30-45        146       141"
            ]
          },
          "metadata": {
            "tags": []
          },
          "execution_count": 5
        }
      ]
    },
    {
      "cell_type": "code",
      "metadata": {
        "id": "GYQ0IVF0A4od",
        "colab_type": "code",
        "outputId": "770ceb1a-23c2-4a2b-b480-6cb417b7d488",
        "colab": {
          "base_uri": "https://localhost:8080/",
          "height": 221
        }
      },
      "source": [
        "#check info\n",
        "df.info()"
      ],
      "execution_count": 0,
      "outputs": [
        {
          "output_type": "stream",
          "text": [
            "<class 'pandas.core.frame.DataFrame'>\n",
            "RangeIndex: 120 entries, 0 to 119\n",
            "Data columns (total 5 columns):\n",
            " #   Column     Non-Null Count  Dtype \n",
            "---  ------     --------------  ----- \n",
            " 0   patient    120 non-null    int64 \n",
            " 1   sex        120 non-null    object\n",
            " 2   agegrp     120 non-null    object\n",
            " 3   bp_before  120 non-null    int64 \n",
            " 4   bp_after   120 non-null    int64 \n",
            "dtypes: int64(3), object(2)\n",
            "memory usage: 4.8+ KB\n"
          ],
          "name": "stdout"
        }
      ]
    },
    {
      "cell_type": "code",
      "metadata": {
        "id": "fNAzKJErA4rR",
        "colab_type": "code",
        "outputId": "58f264c6-f0ea-4a06-9780-44b1d719ac59",
        "colab": {
          "base_uri": "https://localhost:8080/",
          "height": 119
        }
      },
      "source": [
        "#check null values\n",
        "df.isnull().sum()"
      ],
      "execution_count": 0,
      "outputs": [
        {
          "output_type": "execute_result",
          "data": {
            "text/plain": [
              "patient      0\n",
              "sex          0\n",
              "agegrp       0\n",
              "bp_before    0\n",
              "bp_after     0\n",
              "dtype: int64"
            ]
          },
          "metadata": {
            "tags": []
          },
          "execution_count": 7
        }
      ]
    },
    {
      "cell_type": "markdown",
      "metadata": {
        "id": "i7RpNNP7CWvR",
        "colab_type": "text"
      },
      "source": [
        "###Pair sample t-test\n",
        "Pair sample t-test is used to check the mean of two groups at different point in time. Here we want to know whether the bp of patients before and after taking the drug is same or difference. We want to know whether the drug has any effect on patients bp or not."
      ]
    },
    {
      "cell_type": "code",
      "metadata": {
        "id": "zMFWcMAzA4xz",
        "colab_type": "code",
        "outputId": "31527803-3bf3-41ea-e989-ed35731dd7fc",
        "colab": {
          "base_uri": "https://localhost:8080/",
          "height": 142
        }
      },
      "source": [
        "#check the description of the data\n",
        "df.describe().T"
      ],
      "execution_count": 0,
      "outputs": [
        {
          "output_type": "execute_result",
          "data": {
            "text/html": [
              "<div>\n",
              "<style scoped>\n",
              "    .dataframe tbody tr th:only-of-type {\n",
              "        vertical-align: middle;\n",
              "    }\n",
              "\n",
              "    .dataframe tbody tr th {\n",
              "        vertical-align: top;\n",
              "    }\n",
              "\n",
              "    .dataframe thead th {\n",
              "        text-align: right;\n",
              "    }\n",
              "</style>\n",
              "<table border=\"1\" class=\"dataframe\">\n",
              "  <thead>\n",
              "    <tr style=\"text-align: right;\">\n",
              "      <th></th>\n",
              "      <th>count</th>\n",
              "      <th>mean</th>\n",
              "      <th>std</th>\n",
              "      <th>min</th>\n",
              "      <th>25%</th>\n",
              "      <th>50%</th>\n",
              "      <th>75%</th>\n",
              "      <th>max</th>\n",
              "    </tr>\n",
              "  </thead>\n",
              "  <tbody>\n",
              "    <tr>\n",
              "      <th>patient</th>\n",
              "      <td>120.0</td>\n",
              "      <td>60.500000</td>\n",
              "      <td>34.785054</td>\n",
              "      <td>1.0</td>\n",
              "      <td>30.75</td>\n",
              "      <td>60.5</td>\n",
              "      <td>90.25</td>\n",
              "      <td>120.0</td>\n",
              "    </tr>\n",
              "    <tr>\n",
              "      <th>bp_before</th>\n",
              "      <td>120.0</td>\n",
              "      <td>156.450000</td>\n",
              "      <td>11.389845</td>\n",
              "      <td>138.0</td>\n",
              "      <td>147.00</td>\n",
              "      <td>154.5</td>\n",
              "      <td>164.00</td>\n",
              "      <td>185.0</td>\n",
              "    </tr>\n",
              "    <tr>\n",
              "      <th>bp_after</th>\n",
              "      <td>120.0</td>\n",
              "      <td>151.358333</td>\n",
              "      <td>14.177622</td>\n",
              "      <td>125.0</td>\n",
              "      <td>140.75</td>\n",
              "      <td>149.5</td>\n",
              "      <td>161.00</td>\n",
              "      <td>185.0</td>\n",
              "    </tr>\n",
              "  </tbody>\n",
              "</table>\n",
              "</div>"
            ],
            "text/plain": [
              "           count        mean        std    min     25%    50%     75%    max\n",
              "patient    120.0   60.500000  34.785054    1.0   30.75   60.5   90.25  120.0\n",
              "bp_before  120.0  156.450000  11.389845  138.0  147.00  154.5  164.00  185.0\n",
              "bp_after   120.0  151.358333  14.177622  125.0  140.75  149.5  161.00  185.0"
            ]
          },
          "metadata": {
            "tags": []
          },
          "execution_count": 10
        }
      ]
    },
    {
      "cell_type": "markdown",
      "metadata": {
        "id": "B4AUQpTXEkxS",
        "colab_type": "text"
      },
      "source": [
        "Here we can observe that the mean before intervention is  156.45 and mean after the intervention is 151.36. clearly we can see that there is difference in the mean before and after the intervention but is this difference statstically significant? "
      ]
    },
    {
      "cell_type": "markdown",
      "metadata": {
        "id": "yhJ40kEAFkgI",
        "colab_type": "text"
      },
      "source": [
        "###Check the assumptions"
      ]
    },
    {
      "cell_type": "markdown",
      "metadata": {
        "id": "bob_P3vGHQJp",
        "colab_type": "text"
      },
      "source": [
        "Check for equal variances"
      ]
    },
    {
      "cell_type": "code",
      "metadata": {
        "id": "krQWIcD5A40z",
        "colab_type": "code",
        "colab": {}
      },
      "source": [
        "#Use levene's test to check variances \n",
        "# H0 : Varinaces are same\n",
        "# H1 : Variances are not same \n",
        "#Alpha : 0.05"
      ],
      "execution_count": 0,
      "outputs": []
    },
    {
      "cell_type": "code",
      "metadata": {
        "id": "SVjtpppmA4vc",
        "colab_type": "code",
        "outputId": "6ec7722a-97db-448e-a4d2-e5e41541eb29",
        "colab": {
          "base_uri": "https://localhost:8080/",
          "height": 34
        }
      },
      "source": [
        "alpha = 0.05\n",
        "Stats,p_value = stats.levene(df['bp_before'],df['bp_after'])\n",
        "if p_value > alpha :\n",
        "  print('Failed to reject null hypothesis, variances are same')\n",
        "else :\n",
        "  print('Reject null hypothesis, Variances are not same')"
      ],
      "execution_count": 0,
      "outputs": [
        {
          "output_type": "stream",
          "text": [
            "Reject null hypothesis, Variances are not same\n"
          ],
          "name": "stdout"
        }
      ]
    },
    {
      "cell_type": "markdown",
      "metadata": {
        "id": "sUahnElIHUZU",
        "colab_type": "text"
      },
      "source": [
        "Check for normality"
      ]
    },
    {
      "cell_type": "code",
      "metadata": {
        "id": "ez3mXi8eA4nP",
        "colab_type": "code",
        "outputId": "b16a17a2-7214-4951-d1cc-da347bb831c7",
        "colab": {
          "base_uri": "https://localhost:8080/",
          "height": 375
        }
      },
      "source": [
        "diff = scale(df['bp_before'] - df['bp_after'])  #take the difference b/w before and after,and scale the differences\n",
        "#plot histogram of scaled differences\n",
        "plt.figure(figsize=(12,6))\n",
        "plt.hist(diff)\n",
        "plt.show()"
      ],
      "execution_count": 0,
      "outputs": [
        {
          "output_type": "display_data",
          "data": {
            "image/png": "[encoded data removed]",
            "text/plain": [
              "<Figure size 864x432 with 1 Axes>"
            ]
          },
          "metadata": {
            "tags": [],
            "needs_background": "light"
          }
        }
      ]
    },
    {
      "cell_type": "code",
      "metadata": {
        "id": "j0QI_2lrA4ka",
        "colab_type": "code",
        "outputId": "3227f58e-2b50-4fbb-f24e-90844fd68260",
        "colab": {
          "base_uri": "https://localhost:8080/",
          "height": 408
        }
      },
      "source": [
        "#q-q plot to check normality\n",
        "plt.figure(figsize=(12,6))\n",
        "stats.probplot(diff, plot=plt, dist = 'norm')\n",
        "plt.show()"
      ],
      "execution_count": 0,
      "outputs": [
        {
          "output_type": "display_data",
          "data": {
            "image/png": "[encoded data removed]",
            "text/plain": [
              "<Figure size 864x432 with 1 Axes>"
            ]
          },
          "metadata": {
            "tags": [],
            "needs_background": "light"
          }
        }
      ]
    },
    {
      "cell_type": "code",
      "metadata": {
        "id": "v6nA7JAgA4eB",
        "colab_type": "code",
        "outputId": "d1660968-6a1b-4681-8c3f-850e3a605e19",
        "colab": {
          "base_uri": "https://localhost:8080/",
          "height": 51
        }
      },
      "source": [
        "#Let's use shapiro-wilk test to check normality\n",
        "#H0 : Residuals are normally distributed\n",
        "#H1 : Residuals are not normally distributed\n",
        "alpha = 0.05\n",
        "stats,p_value = stats.shapiro(diff)\n",
        "if p_value > alpha:\n",
        "  print('Failed to reject null hypothesis \\n P-value: {}'.format(p_value))\n",
        "else:\n",
        "  print('Reject null hypothesis \\n P-value: {}'.format(p_value))"
      ],
      "execution_count": 0,
      "outputs": [
        {
          "output_type": "stream",
          "text": [
            "Failed to reject null hypothesis \n",
            " P-value: 0.7841646671295166\n"
          ],
          "name": "stdout"
        }
      ]
    },
    {
      "cell_type": "code",
      "metadata": {
        "id": "BK5CqyTGI3DQ",
        "colab_type": "code",
        "outputId": "0b414311-d14b-4e5d-83a6-c640f28525ac",
        "colab": {
          "base_uri": "https://localhost:8080/",
          "height": 51
        }
      },
      "source": [
        "\n",
        "#H0 : There's no difference in mean(No difference before and after an intervention)\n",
        "#H1 : There's a difference in mean (There is difference before and after an intervention)\n",
        "#Alpha : 0.5\n",
        "alpha = 0.05\n",
        "statistic , p_value = stats.ttest_rel(df['bp_before'],df['bp_after'])\n",
        "if p_value > alpha:\n",
        "  print(f'Fail to reject Null Hypothesis p-value is {p_value}')\n",
        "else:\n",
        "  print(f'Reject Null Hypothesis \\nP_value : {p_value}')"
      ],
      "execution_count": 0,
      "outputs": [
        {
          "output_type": "stream",
          "text": [
            "Reject Null Hypothesis \n",
            "P_value : 0.0011297914644840823\n"
          ],
          "name": "stdout"
        }
      ]
    },
    {
      "cell_type": "markdown",
      "metadata": {
        "id": "Y6j2S10WLCyO",
        "colab_type": "text"
      },
      "source": [
        "result shows that we can reject our null hypothesis and accept that there is a significant difference before and after intervention."
      ]
    },
    {
      "cell_type": "markdown",
      "metadata": {
        "id": "VUivJSP_LaDS",
        "colab_type": "text"
      },
      "source": [
        "But while checking for assumptions of equal variance using leven's test ------ we saw that the variances are not same in both the sample. In such condition when the sample variances are not same we use Wilcoxon Signed Rank test."
      ]
    },
    {
      "cell_type": "code",
      "metadata": {
        "id": "T7uxSVxwL4KJ",
        "colab_type": "code",
        "outputId": "7cc792e0-8b79-4be9-9147-c04008b52032",
        "colab": {
          "base_uri": "https://localhost:8080/",
          "height": 235
        }
      },
      "source": [
        "#we will use researchpy and see it's fusefullness here.\n",
        "rp.ttest(df['bp_before'],df['bp_after'], equal_variances = False, paired =True)"
      ],
      "execution_count": 0,
      "outputs": [
        {
          "output_type": "execute_result",
          "data": {
            "text/html": [
              "<div>\n",
              "<style scoped>\n",
              "    .dataframe tbody tr th:only-of-type {\n",
              "        vertical-align: middle;\n",
              "    }\n",
              "\n",
              "    .dataframe tbody tr th {\n",
              "        vertical-align: top;\n",
              "    }\n",
              "\n",
              "    .dataframe thead th {\n",
              "        text-align: right;\n",
              "    }\n",
              "</style>\n",
              "<table border=\"1\" class=\"dataframe\">\n",
              "  <thead>\n",
              "    <tr style=\"text-align: right;\">\n",
              "      <th></th>\n",
              "      <th>Wilcoxon signed-rank test</th>\n",
              "      <th>results</th>\n",
              "    </tr>\n",
              "  </thead>\n",
              "  <tbody>\n",
              "    <tr>\n",
              "      <th>0</th>\n",
              "      <td>Mean for bp_before =</td>\n",
              "      <td>156.450000</td>\n",
              "    </tr>\n",
              "    <tr>\n",
              "      <th>1</th>\n",
              "      <td>Mean for bp_after =</td>\n",
              "      <td>151.358333</td>\n",
              "    </tr>\n",
              "    <tr>\n",
              "      <th>2</th>\n",
              "      <td>T value =</td>\n",
              "      <td>2234.500000</td>\n",
              "    </tr>\n",
              "    <tr>\n",
              "      <th>3</th>\n",
              "      <td>Z value =</td>\n",
              "      <td>-3.191600</td>\n",
              "    </tr>\n",
              "    <tr>\n",
              "      <th>4</th>\n",
              "      <td>Two sided p value =</td>\n",
              "      <td>0.001400</td>\n",
              "    </tr>\n",
              "    <tr>\n",
              "      <th>5</th>\n",
              "      <td>r =</td>\n",
              "      <td>-0.206000</td>\n",
              "    </tr>\n",
              "  </tbody>\n",
              "</table>\n",
              "</div>"
            ],
            "text/plain": [
              "  Wilcoxon signed-rank test      results\n",
              "0     Mean for bp_before =    156.450000\n",
              "1      Mean for bp_after =    151.358333\n",
              "2                T value =   2234.500000\n",
              "3                Z value =     -3.191600\n",
              "4      Two sided p value =      0.001400\n",
              "5                      r =     -0.206000"
            ]
          },
          "metadata": {
            "tags": []
          },
          "execution_count": 33
        }
      ]
    },
    {
      "cell_type": "markdown",
      "metadata": {
        "id": "CXE2QNCYNkwt",
        "colab_type": "text"
      },
      "source": [
        "Here we have used researchpy library for Wilcoxon Signed Rank test. We have specified equal_variances = False as the sample variances are not equal and paired=True for paired sample t-test."
      ]
    },
    {
      "cell_type": "markdown",
      "metadata": {
        "id": "sigqk0DxN6qg",
        "colab_type": "text"
      },
      "source": [
        "We see that p-value (0.0014) is less than alpha (0.05). So we can reject null hypothesis."
      ]
    },
    {
      "cell_type": "code",
      "metadata": {
        "id": "nQTnz4I_L4uc",
        "colab_type": "code",
        "colab": {}
      },
      "source": [
        ""
      ],
      "execution_count": 0,
      "outputs": []
    }
  ]
}