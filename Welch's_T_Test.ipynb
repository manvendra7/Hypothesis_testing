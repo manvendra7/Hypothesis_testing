{
  "nbformat": 4,
  "nbformat_minor": 0,
  "metadata": {
    "colab": {
      "name": "Welch's_T-Test.ipynb",
      "provenance": [],
      "collapsed_sections": [],
      "mount_file_id": "1VgOjKZTmSqEm4zrK4-gP0Vm0pXY1g_Yw",
      "authorship_tag": "ABX9TyPFZoYTKK7dtQxxfGpOJTis"
    },
    "kernelspec": {
      "name": "python3",
      "display_name": "Python 3"
    }
  },
  "cells": [
    {
      "cell_type": "code",
      "metadata": {
        "id": "vfrvSxkgIbeU",
        "colab_type": "code",
        "outputId": "02ca2382-b44a-4b14-f263-46dbd8d985d8",
        "colab": {
          "base_uri": "https://localhost:8080/",
          "height": 221
        }
      },
      "source": [
        "!pip install researchpy"
      ],
      "execution_count": 1,
      "outputs": [
        {
          "output_type": "stream",
          "text": [
            "Collecting researchpy\n",
            "  Downloading https://files.pythonhosted.org/packages/c2/e4/6fef21ad13c0b48ccbafba3ad8bd0bd65af0c9eb1aad9a82fec66c9de1ed/researchpy-0.1.9-py3-none-any.whl\n",
            "Requirement already satisfied: numpy in /usr/local/lib/python3.6/dist-packages (from researchpy) (1.18.2)\n",
            "Requirement already satisfied: scipy in /usr/local/lib/python3.6/dist-packages (from researchpy) (1.4.1)\n",
            "Requirement already satisfied: statsmodels in /usr/local/lib/python3.6/dist-packages (from researchpy) (0.10.2)\n",
            "Requirement already satisfied: pandas in /usr/local/lib/python3.6/dist-packages (from researchpy) (0.25.3)\n",
            "Requirement already satisfied: patsy>=0.4.0 in /usr/local/lib/python3.6/dist-packages (from statsmodels->researchpy) (0.5.1)\n",
            "Requirement already satisfied: python-dateutil>=2.6.1 in /usr/local/lib/python3.6/dist-packages (from pandas->researchpy) (2.8.1)\n",
            "Requirement already satisfied: pytz>=2017.2 in /usr/local/lib/python3.6/dist-packages (from pandas->researchpy) (2018.9)\n",
            "Requirement already satisfied: six in /usr/local/lib/python3.6/dist-packages (from patsy>=0.4.0->statsmodels->researchpy) (1.12.0)\n",
            "Installing collected packages: researchpy\n",
            "Successfully installed researchpy-0.1.9\n"
          ],
          "name": "stdout"
        }
      ]
    },
    {
      "cell_type": "markdown",
      "metadata": {
        "id": "NpaQ47AQJxVc",
        "colab_type": "text"
      },
      "source": [
        "### When the variances of the 2 samples are not same we use wlech's t-test.\n",
        "\n",
        "---\n",
        "\n"
      ]
    },
    {
      "cell_type": "code",
      "metadata": {
        "id": "zlYuNSn2GYuV",
        "colab_type": "code",
        "colab": {}
      },
      "source": [
        "#import all the necessary packages\n",
        "import statsmodels.api as sm\n",
        "import matplotlib.pyplot as plt\n",
        "import seaborn as sns\n",
        "import pandas as pd\n",
        "import numpy as np\n",
        "from sklearn.preprocessing import scale\n",
        "from matplotlib import style\n",
        "style.use('ggplot')\n",
        "import researchpy as rp\n",
        "from scipy import stats\n"
      ],
      "execution_count": 0,
      "outputs": []
    },
    {
      "cell_type": "code",
      "metadata": {
        "id": "nhDrEXq4IRbP",
        "colab_type": "code",
        "colab": {}
      },
      "source": [
        "bike_sharing_data = pd.read_csv('/content/drive/My Drive/hypothesis_exercise_file/02/demos/datasets/bike_sharing_data_processed.csv') "
      ],
      "execution_count": 0,
      "outputs": []
    },
    {
      "cell_type": "code",
      "metadata": {
        "id": "QEpsrVQ7IRqn",
        "colab_type": "code",
        "outputId": "77f237a9-bcca-4cc9-b8ac-d3b77f498e48",
        "colab": {
          "base_uri": "https://localhost:8080/",
          "height": 34
        }
      },
      "source": [
        "bike_sharing_data.shape #checking shape of the data"
      ],
      "execution_count": 4,
      "outputs": [
        {
          "output_type": "execute_result",
          "data": {
            "text/plain": [
              "(731, 7)"
            ]
          },
          "metadata": {
            "tags": []
          },
          "execution_count": 4
        }
      ]
    },
    {
      "cell_type": "markdown",
      "metadata": {
        "id": "VIfnAYZMKNN7",
        "colab_type": "text"
      },
      "source": [
        "In previous notebook we saw that the working day had no significant effect on number of rentals. Now we want to see whether the temperature has any significant effect on number of rentals."
      ]
    },
    {
      "cell_type": "code",
      "metadata": {
        "id": "B9_lKrbBIR3L",
        "colab_type": "code",
        "outputId": "993e749c-a529-4c7e-acc2-d702aa2eb40c",
        "colab": {
          "base_uri": "https://localhost:8080/",
          "height": 255
        }
      },
      "source": [
        "#t-test is used only when we have categorical feature but the temperature here is continuous feature\n",
        "#convert temperature in categorical variable\n",
        "sns.boxplot(y = 'temp',data=bike_sharing_data)\n",
        "plt.show()"
      ],
      "execution_count": 5,
      "outputs": [
        {
          "output_type": "display_data",
          "data": {
            "image/png": "[encoded data removed]",
            "text/plain": [
              "<Figure size 432x288 with 1 Axes>"
            ]
          },
          "metadata": {
            "tags": []
          }
        }
      ]
    },
    {
      "cell_type": "markdown",
      "metadata": {
        "id": "_I_-TP2KLn17",
        "colab_type": "text"
      },
      "source": [
        "Here we can see that the minumum value is 0 and maximum is 1.\n",
        "* The data is distributed between 0 and 1.\n",
        "* Median is 0.5 "
      ]
    },
    {
      "cell_type": "code",
      "metadata": {
        "id": "htf0N1XeISKM",
        "colab_type": "code",
        "outputId": "115defd6-5b55-4790-b7c8-a4c3cd904e6f",
        "colab": {
          "base_uri": "https://localhost:8080/",
          "height": 170
        }
      },
      "source": [
        "bike_sharing_data['temp'].describe() #checking the description of temperature"
      ],
      "execution_count": 6,
      "outputs": [
        {
          "output_type": "execute_result",
          "data": {
            "text/plain": [
              "count    731.000000\n",
              "mean       0.495385\n",
              "std        0.183051\n",
              "min        0.059130\n",
              "25%        0.337083\n",
              "50%        0.498333\n",
              "75%        0.655417\n",
              "max        0.861667\n",
              "Name: temp, dtype: float64"
            ]
          },
          "metadata": {
            "tags": []
          },
          "execution_count": 6
        }
      ]
    },
    {
      "cell_type": "code",
      "metadata": {
        "id": "-YgweSqwISgG",
        "colab_type": "code",
        "colab": {}
      },
      "source": [
        "#Let's create a new categorical variable 'temp_category' if temp > mean we will assign 1 otherwise 0\n",
        "bike_sharing_data['temp_category'] = bike_sharing_data['temp'] > bike_sharing_data['temp'].mean()"
      ],
      "execution_count": 0,
      "outputs": []
    },
    {
      "cell_type": "code",
      "metadata": {
        "id": "-ZuLom_RJHz7",
        "colab_type": "code",
        "outputId": "b0cb032e-a67f-438c-fa6c-e3c344f4c924",
        "colab": {
          "base_uri": "https://localhost:8080/",
          "height": 204
        }
      },
      "source": [
        "bike_sharing_data.head(5)"
      ],
      "execution_count": 8,
      "outputs": [
        {
          "output_type": "execute_result",
          "data": {
            "text/html": [
              "<div>\n",
              "<style scoped>\n",
              "    .dataframe tbody tr th:only-of-type {\n",
              "        vertical-align: middle;\n",
              "    }\n",
              "\n",
              "    .dataframe tbody tr th {\n",
              "        vertical-align: top;\n",
              "    }\n",
              "\n",
              "    .dataframe thead th {\n",
              "        text-align: right;\n",
              "    }\n",
              "</style>\n",
              "<table border=\"1\" class=\"dataframe\">\n",
              "  <thead>\n",
              "    <tr style=\"text-align: right;\">\n",
              "      <th></th>\n",
              "      <th>season</th>\n",
              "      <th>mnth</th>\n",
              "      <th>holiday</th>\n",
              "      <th>workingday</th>\n",
              "      <th>weathersit</th>\n",
              "      <th>temp</th>\n",
              "      <th>cnt</th>\n",
              "      <th>temp_category</th>\n",
              "    </tr>\n",
              "  </thead>\n",
              "  <tbody>\n",
              "    <tr>\n",
              "      <th>0</th>\n",
              "      <td>1</td>\n",
              "      <td>1</td>\n",
              "      <td>0</td>\n",
              "      <td>0</td>\n",
              "      <td>2</td>\n",
              "      <td>0.344167</td>\n",
              "      <td>985</td>\n",
              "      <td>False</td>\n",
              "    </tr>\n",
              "    <tr>\n",
              "      <th>1</th>\n",
              "      <td>1</td>\n",
              "      <td>1</td>\n",
              "      <td>0</td>\n",
              "      <td>0</td>\n",
              "      <td>2</td>\n",
              "      <td>0.363478</td>\n",
              "      <td>801</td>\n",
              "      <td>False</td>\n",
              "    </tr>\n",
              "    <tr>\n",
              "      <th>2</th>\n",
              "      <td>1</td>\n",
              "      <td>1</td>\n",
              "      <td>0</td>\n",
              "      <td>1</td>\n",
              "      <td>1</td>\n",
              "      <td>0.196364</td>\n",
              "      <td>1349</td>\n",
              "      <td>False</td>\n",
              "    </tr>\n",
              "    <tr>\n",
              "      <th>3</th>\n",
              "      <td>1</td>\n",
              "      <td>1</td>\n",
              "      <td>0</td>\n",
              "      <td>1</td>\n",
              "      <td>1</td>\n",
              "      <td>0.200000</td>\n",
              "      <td>1562</td>\n",
              "      <td>False</td>\n",
              "    </tr>\n",
              "    <tr>\n",
              "      <th>4</th>\n",
              "      <td>1</td>\n",
              "      <td>1</td>\n",
              "      <td>0</td>\n",
              "      <td>1</td>\n",
              "      <td>1</td>\n",
              "      <td>0.226957</td>\n",
              "      <td>1600</td>\n",
              "      <td>False</td>\n",
              "    </tr>\n",
              "  </tbody>\n",
              "</table>\n",
              "</div>"
            ],
            "text/plain": [
              "   season  mnth  holiday  workingday  weathersit      temp   cnt  temp_category\n",
              "0       1     1        0           0           2  0.344167   985          False\n",
              "1       1     1        0           0           2  0.363478   801          False\n",
              "2       1     1        0           1           1  0.196364  1349          False\n",
              "3       1     1        0           1           1  0.200000  1562          False\n",
              "4       1     1        0           1           1  0.226957  1600          False"
            ]
          },
          "metadata": {
            "tags": []
          },
          "execution_count": 8
        }
      ]
    },
    {
      "cell_type": "code",
      "metadata": {
        "id": "kHvJeno3PZN9",
        "colab_type": "code",
        "outputId": "97ec3c4d-e01d-470a-f194-b22f3fb3ff9f",
        "colab": {
          "base_uri": "https://localhost:8080/",
          "height": 142
        }
      },
      "source": [
        "bike_sharing_data.groupby('temp_category')['cnt'].describe()"
      ],
      "execution_count": 9,
      "outputs": [
        {
          "output_type": "execute_result",
          "data": {
            "text/html": [
              "<div>\n",
              "<style scoped>\n",
              "    .dataframe tbody tr th:only-of-type {\n",
              "        vertical-align: middle;\n",
              "    }\n",
              "\n",
              "    .dataframe tbody tr th {\n",
              "        vertical-align: top;\n",
              "    }\n",
              "\n",
              "    .dataframe thead th {\n",
              "        text-align: right;\n",
              "    }\n",
              "</style>\n",
              "<table border=\"1\" class=\"dataframe\">\n",
              "  <thead>\n",
              "    <tr style=\"text-align: right;\">\n",
              "      <th></th>\n",
              "      <th>count</th>\n",
              "      <th>mean</th>\n",
              "      <th>std</th>\n",
              "      <th>min</th>\n",
              "      <th>25%</th>\n",
              "      <th>50%</th>\n",
              "      <th>75%</th>\n",
              "      <th>max</th>\n",
              "    </tr>\n",
              "    <tr>\n",
              "      <th>temp_category</th>\n",
              "      <th></th>\n",
              "      <th></th>\n",
              "      <th></th>\n",
              "      <th></th>\n",
              "      <th></th>\n",
              "      <th></th>\n",
              "      <th></th>\n",
              "      <th></th>\n",
              "    </tr>\n",
              "  </thead>\n",
              "  <tbody>\n",
              "    <tr>\n",
              "      <th>False</th>\n",
              "      <td>364.0</td>\n",
              "      <td>3387.664835</td>\n",
              "      <td>1691.340133</td>\n",
              "      <td>22.0</td>\n",
              "      <td>1964.5</td>\n",
              "      <td>3301.0</td>\n",
              "      <td>4513.5</td>\n",
              "      <td>8090.0</td>\n",
              "    </tr>\n",
              "    <tr>\n",
              "      <th>True</th>\n",
              "      <td>367.0</td>\n",
              "      <td>5611.904632</td>\n",
              "      <td>1475.698228</td>\n",
              "      <td>1115.0</td>\n",
              "      <td>4548.5</td>\n",
              "      <td>5336.0</td>\n",
              "      <td>6897.5</td>\n",
              "      <td>8714.0</td>\n",
              "    </tr>\n",
              "  </tbody>\n",
              "</table>\n",
              "</div>"
            ],
            "text/plain": [
              "               count         mean          std  ...     50%     75%     max\n",
              "temp_category                                   ...                        \n",
              "False          364.0  3387.664835  1691.340133  ...  3301.0  4513.5  8090.0\n",
              "True           367.0  5611.904632  1475.698228  ...  5336.0  6897.5  8714.0\n",
              "\n",
              "[2 rows x 8 columns]"
            ]
          },
          "metadata": {
            "tags": []
          },
          "execution_count": 9
        }
      ]
    },
    {
      "cell_type": "code",
      "metadata": {
        "id": "y3oRjMWgPnSs",
        "colab_type": "code",
        "outputId": "2b781447-084d-4feb-c568-11872f84eeb5",
        "colab": {
          "base_uri": "https://localhost:8080/",
          "height": 391
        }
      },
      "source": [
        "plt.figure(figsize=(12,6))\n",
        "sns.boxplot(x = 'temp_category', y = 'cnt', data = bike_sharing_data)\n",
        "plt.show()  "
      ],
      "execution_count": 32,
      "outputs": [
        {
          "output_type": "display_data",
          "data": {
            "image/png": "[encoded data removed]",
            "text/plain": [
              "<Figure size 864x432 with 1 Axes>"
            ]
          },
          "metadata": {
            "tags": []
          }
        }
      ]
    },
    {
      "cell_type": "code",
      "metadata": {
        "id": "8FouYkxnJIBE",
        "colab_type": "code",
        "colab": {}
      },
      "source": [
        "sample_01 = bike_sharing_data[(bike_sharing_data['temp_category']==True)]  \n",
        "sample_02 = bike_sharing_data[(bike_sharing_data['temp_category']==False)]"
      ],
      "execution_count": 0,
      "outputs": []
    },
    {
      "cell_type": "code",
      "metadata": {
        "id": "NfEM-q79JIK8",
        "colab_type": "code",
        "outputId": "0f762884-6603-4d5e-9d9e-a2cbdd6416f3",
        "colab": {
          "base_uri": "https://localhost:8080/",
          "height": 34
        }
      },
      "source": [
        "sample_01.shape,sample_02.shape"
      ],
      "execution_count": 12,
      "outputs": [
        {
          "output_type": "execute_result",
          "data": {
            "text/plain": [
              "((367, 8), (364, 8))"
            ]
          },
          "metadata": {
            "tags": []
          },
          "execution_count": 12
        }
      ]
    },
    {
      "cell_type": "code",
      "metadata": {
        "id": "NqSuE0GuJIU-",
        "colab_type": "code",
        "colab": {}
      },
      "source": [
        "#Here we have 367 observations in sample_01 and 364 samples in sample_02\n",
        "#let's make equal number of observations in both samples\n",
        "sample_01 = sample_01.sample(364)"
      ],
      "execution_count": 0,
      "outputs": []
    },
    {
      "cell_type": "code",
      "metadata": {
        "id": "OIglj7exOe5z",
        "colab_type": "code",
        "outputId": "b2016d38-9bbb-40b9-b2d3-468c901d6886",
        "colab": {
          "base_uri": "https://localhost:8080/",
          "height": 34
        }
      },
      "source": [
        "sample_01.shape,sample_02.shape"
      ],
      "execution_count": 14,
      "outputs": [
        {
          "output_type": "execute_result",
          "data": {
            "text/plain": [
              "((364, 8), (364, 8))"
            ]
          },
          "metadata": {
            "tags": []
          },
          "execution_count": 14
        }
      ]
    },
    {
      "cell_type": "code",
      "metadata": {
        "id": "zUvKyesjRdoy",
        "colab_type": "code",
        "colab": {}
      },
      "source": [
        "#Levene's test to check whether the variances of the two group are same.\n",
        "#H0 : Variances are same.\n",
        "#H1 : Variances are not same.\n",
        "#Alpha = 0.05%\n",
        "#if p-value > alpha (Fail to reject H0)\n",
        "#if p-value < alpha (Accept null hypothesis)"
      ],
      "execution_count": 0,
      "outputs": []
    },
    {
      "cell_type": "code",
      "metadata": {
        "id": "GvES0KlnQ-l4",
        "colab_type": "code",
        "outputId": "726fb870-7b82-4fed-f30b-b25ce40a7580",
        "colab": {
          "base_uri": "https://localhost:8080/",
          "height": 51
        }
      },
      "source": [
        "#Levene's test to check the variances of 2 samples\n",
        "alpha = 0.5\n",
        "statistics,p_value = stats.levene(sample_01['cnt'],sample_02['cnt'])\n",
        "if p_value > alpha:\n",
        "  print('Fail to reject null hypothesis \\n p_value: {}'.format(p_value))\n",
        "else:\n",
        "  print('Reject Null Hypothesis \\n p_value: {}'.format(p_value))"
      ],
      "execution_count": 19,
      "outputs": [
        {
          "output_type": "stream",
          "text": [
            "Reject Null Hypothesis \n",
            " p_value: 0.029105602686617597\n"
          ],
          "name": "stdout"
        }
      ]
    },
    {
      "cell_type": "markdown",
      "metadata": {
        "id": "QhRN2lgtRloR",
        "colab_type": "text"
      },
      "source": [
        "We can see that p-value is less than alpha so we have to reject the null hypothesis.\n",
        "Variances of the 2 samples are not equal."
      ]
    },
    {
      "cell_type": "markdown",
      "metadata": {
        "id": "WpKfCpTBdwC8",
        "colab_type": "text"
      },
      "source": [
        "### Check For Normality"
      ]
    },
    {
      "cell_type": "code",
      "metadata": {
        "id": "zepRYw9IOfGv",
        "colab_type": "code",
        "outputId": "e0807bff-f40b-4163-e980-893912c11389",
        "colab": {
          "base_uri": "https://localhost:8080/",
          "height": 374
        }
      },
      "source": [
        "#take the residuals of the 2 samples and scale the difference\n",
        "#plot the scaled residual to see the distribution\n",
        "plt.figure(figsize=(12,6))\n",
        "diff = scale(np.array(sample_01['cnt'])-np.array(sample_02['cnt']))\n",
        "plt.hist(diff)\n",
        "plt.show()"
      ],
      "execution_count": 23,
      "outputs": [
        {
          "output_type": "display_data",
          "data": {
            "image/png": "[encoded data removed]",
            "text/plain": [
              "<Figure size 864x432 with 1 Axes>"
            ]
          },
          "metadata": {
            "tags": []
          }
        }
      ]
    },
    {
      "cell_type": "code",
      "metadata": {
        "id": "d7fXyu6hOfQa",
        "colab_type": "code",
        "outputId": "df771553-ed71-4643-dbe7-dce18d82f3f4",
        "colab": {
          "base_uri": "https://localhost:8080/",
          "height": 408
        }
      },
      "source": [
        "#q-q plot to check normality\n",
        "plt.figure(figsize=(12,6))\n",
        "stats.probplot(diff,plot=plt,dist='norm')\n",
        "plt.show()"
      ],
      "execution_count": 24,
      "outputs": [
        {
          "output_type": "display_data",
          "data": {
            "image/png": "[encoded data removed]",
            "text/plain": [
              "<Figure size 864x432 with 1 Axes>"
            ]
          },
          "metadata": {
            "tags": []
          }
        }
      ]
    },
    {
      "cell_type": "code",
      "metadata": {
        "id": "A7L19HL-Ofbc",
        "colab_type": "code",
        "colab": {}
      },
      "source": [
        "#Our Data is almost normally distributed"
      ],
      "execution_count": 0,
      "outputs": []
    },
    {
      "cell_type": "code",
      "metadata": {
        "id": "ZMDPW-sqO8Qu",
        "colab_type": "code",
        "outputId": "3b793793-3361-4492-ce4e-aef972795e11",
        "colab": {
          "base_uri": "https://localhost:8080/",
          "height": 51
        }
      },
      "source": [
        "#Let's use shapiro-wilk test to check normality\n",
        "#H0 : Residuals are normally distributed\n",
        "#H1 : Residuals are not normally distributed\n",
        "alpha = 0.05\n",
        "statisctics,p_value = stats.shapiro(diff)\n",
        "if p_value > alpha:\n",
        "  print('Failed to reject null hypothesis \\n P-value: {}'.format(p_value))\n",
        "else:\n",
        "  print('Reject null hypothesis \\n P-value: {}'.format(p_value))"
      ],
      "execution_count": 28,
      "outputs": [
        {
          "output_type": "stream",
          "text": [
            "Reject null hypothesis \n",
            " P-value: 0.01899157464504242\n"
          ],
          "name": "stdout"
        }
      ]
    },
    {
      "cell_type": "markdown",
      "metadata": {
        "id": "CL_rLdCIgzEI",
        "colab_type": "text"
      },
      "source": [
        "The pvalue is less than alpha. So we reject the null hypothesis and accept that our data is not normally distributed."
      ]
    },
    {
      "cell_type": "markdown",
      "metadata": {
        "id": "AnJBlKgkhQSr",
        "colab_type": "text"
      },
      "source": [
        "\n",
        "\n",
        "---\n",
        "Using Levene's test we have seen that the variances of the two samples are not equal. So here it voilates the assumption of t-test. \n",
        "In the scenario when the variances are not same b/w the samples we use Welch's t-test.\n",
        "\n",
        "\n",
        "---\n",
        "\n"
      ]
    },
    {
      "cell_type": "code",
      "metadata": {
        "id": "p7ky42HVO8WG",
        "colab_type": "code",
        "colab": {}
      },
      "source": [
        "#we use researchpy library to perfrom welch's t-test\n",
        "#we will specify the parameter 'equal_variances = False' as the sample variances are not equal \n",
        "descriptives,result = rp.ttest(sample_01['cnt'],sample_02['cnt'],equal_variances=False)"
      ],
      "execution_count": 0,
      "outputs": []
    },
    {
      "cell_type": "code",
      "metadata": {
        "id": "AgUOcs7SO8do",
        "colab_type": "code",
        "outputId": "b942f789-1ea7-4814-fadc-9af7814031ad",
        "colab": {
          "base_uri": "https://localhost:8080/",
          "height": 142
        }
      },
      "source": [
        "descriptives"
      ],
      "execution_count": 30,
      "outputs": [
        {
          "output_type": "execute_result",
          "data": {
            "text/html": [
              "<div>\n",
              "<style scoped>\n",
              "    .dataframe tbody tr th:only-of-type {\n",
              "        vertical-align: middle;\n",
              "    }\n",
              "\n",
              "    .dataframe tbody tr th {\n",
              "        vertical-align: top;\n",
              "    }\n",
              "\n",
              "    .dataframe thead th {\n",
              "        text-align: right;\n",
              "    }\n",
              "</style>\n",
              "<table border=\"1\" class=\"dataframe\">\n",
              "  <thead>\n",
              "    <tr style=\"text-align: right;\">\n",
              "      <th></th>\n",
              "      <th>Variable</th>\n",
              "      <th>N</th>\n",
              "      <th>Mean</th>\n",
              "      <th>SD</th>\n",
              "      <th>SE</th>\n",
              "      <th>95% Conf.</th>\n",
              "      <th>Interval</th>\n",
              "    </tr>\n",
              "  </thead>\n",
              "  <tbody>\n",
              "    <tr>\n",
              "      <th>0</th>\n",
              "      <td>cnt</td>\n",
              "      <td>364.0</td>\n",
              "      <td>5625.343407</td>\n",
              "      <td>1471.791645</td>\n",
              "      <td>77.142843</td>\n",
              "      <td>5473.640413</td>\n",
              "      <td>5777.046400</td>\n",
              "    </tr>\n",
              "    <tr>\n",
              "      <th>1</th>\n",
              "      <td>cnt</td>\n",
              "      <td>364.0</td>\n",
              "      <td>3387.664835</td>\n",
              "      <td>1691.340133</td>\n",
              "      <td>88.650311</td>\n",
              "      <td>3213.332169</td>\n",
              "      <td>3561.997501</td>\n",
              "    </tr>\n",
              "    <tr>\n",
              "      <th>2</th>\n",
              "      <td>combined</td>\n",
              "      <td>728.0</td>\n",
              "      <td>4506.504121</td>\n",
              "      <td>1939.965732</td>\n",
              "      <td>71.899914</td>\n",
              "      <td>4365.347879</td>\n",
              "      <td>4647.660363</td>\n",
              "    </tr>\n",
              "  </tbody>\n",
              "</table>\n",
              "</div>"
            ],
            "text/plain": [
              "   Variable      N         Mean  ...         SE    95% Conf.     Interval\n",
              "0       cnt  364.0  5625.343407  ...  77.142843  5473.640413  5777.046400\n",
              "1       cnt  364.0  3387.664835  ...  88.650311  3213.332169  3561.997501\n",
              "2  combined  728.0  4506.504121  ...  71.899914  4365.347879  4647.660363\n",
              "\n",
              "[3 rows x 7 columns]"
            ]
          },
          "metadata": {
            "tags": []
          },
          "execution_count": 30
        }
      ]
    },
    {
      "cell_type": "code",
      "metadata": {
        "id": "kXUrDs7-U4AE",
        "colab_type": "code",
        "outputId": "004b893b-b24a-499c-8673-366e61e720f1",
        "colab": {
          "base_uri": "https://localhost:8080/",
          "height": 359
        }
      },
      "source": [
        "result"
      ],
      "execution_count": 31,
      "outputs": [
        {
          "output_type": "execute_result",
          "data": {
            "text/html": [
              "<div>\n",
              "<style scoped>\n",
              "    .dataframe tbody tr th:only-of-type {\n",
              "        vertical-align: middle;\n",
              "    }\n",
              "\n",
              "    .dataframe tbody tr th {\n",
              "        vertical-align: top;\n",
              "    }\n",
              "\n",
              "    .dataframe thead th {\n",
              "        text-align: right;\n",
              "    }\n",
              "</style>\n",
              "<table border=\"1\" class=\"dataframe\">\n",
              "  <thead>\n",
              "    <tr style=\"text-align: right;\">\n",
              "      <th></th>\n",
              "      <th>Welch's t-test</th>\n",
              "      <th>results</th>\n",
              "    </tr>\n",
              "  </thead>\n",
              "  <tbody>\n",
              "    <tr>\n",
              "      <th>0</th>\n",
              "      <td>Difference (cnt - cnt) =</td>\n",
              "      <td>2237.6786</td>\n",
              "    </tr>\n",
              "    <tr>\n",
              "      <th>1</th>\n",
              "      <td>Degrees of freedom =</td>\n",
              "      <td>712.4032</td>\n",
              "    </tr>\n",
              "    <tr>\n",
              "      <th>2</th>\n",
              "      <td>t =</td>\n",
              "      <td>19.0416</td>\n",
              "    </tr>\n",
              "    <tr>\n",
              "      <th>3</th>\n",
              "      <td>Two side test p value =</td>\n",
              "      <td>0.0000</td>\n",
              "    </tr>\n",
              "    <tr>\n",
              "      <th>4</th>\n",
              "      <td>Difference &lt; 0 p value =</td>\n",
              "      <td>1.0000</td>\n",
              "    </tr>\n",
              "    <tr>\n",
              "      <th>5</th>\n",
              "      <td>Difference &gt; 0 p value =</td>\n",
              "      <td>0.0000</td>\n",
              "    </tr>\n",
              "    <tr>\n",
              "      <th>6</th>\n",
              "      <td>Cohen's d =</td>\n",
              "      <td>1.4115</td>\n",
              "    </tr>\n",
              "    <tr>\n",
              "      <th>7</th>\n",
              "      <td>Hedge's g =</td>\n",
              "      <td>1.4100</td>\n",
              "    </tr>\n",
              "    <tr>\n",
              "      <th>8</th>\n",
              "      <td>Glass's delta =</td>\n",
              "      <td>1.5204</td>\n",
              "    </tr>\n",
              "    <tr>\n",
              "      <th>9</th>\n",
              "      <td>r =</td>\n",
              "      <td>0.5808</td>\n",
              "    </tr>\n",
              "  </tbody>\n",
              "</table>\n",
              "</div>"
            ],
            "text/plain": [
              "              Welch's t-test    results\n",
              "0  Difference (cnt - cnt) =   2237.6786\n",
              "1      Degrees of freedom =    712.4032\n",
              "2                       t =     19.0416\n",
              "3   Two side test p value =      0.0000\n",
              "4  Difference < 0 p value =      1.0000\n",
              "5  Difference > 0 p value =      0.0000\n",
              "6               Cohen's d =      1.4115\n",
              "7               Hedge's g =      1.4100\n",
              "8           Glass's delta =      1.5204\n",
              "9                       r =      0.5808"
            ]
          },
          "metadata": {
            "tags": []
          },
          "execution_count": 31
        }
      ]
    },
    {
      "cell_type": "code",
      "metadata": {
        "id": "RaX2H0NCU4Qv",
        "colab_type": "code",
        "colab": {}
      },
      "source": [
        "#Here we can see that p-value is less than alpha so we reject the null hypothesis and accept the alternate\n",
        "#We can say that temperature has significant effect on number of rentals."
      ],
      "execution_count": 0,
      "outputs": []
    },
    {
      "cell_type": "code",
      "metadata": {
        "id": "HQo_yTxxijXj",
        "colab_type": "code",
        "colab": {}
      },
      "source": [
        ""
      ],
      "execution_count": 0,
      "outputs": []
    }
  ]
}