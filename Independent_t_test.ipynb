{
  "nbformat": 4,
  "nbformat_minor": 0,
  "metadata": {
    "colab": {
      "name": "Independent t-test",
      "provenance": [],
      "collapsed_sections": [],
      "mount_file_id": "1bjtNoHmzbJE6Gom0z4X8gSok0N_fgrHX",
      "authorship_tag": "ABX9TyMeLwRN5tM96N5hmT5We7Mj"
    },
    "kernelspec": {
      "name": "python3",
      "display_name": "Python 3"
    }
  },
  "cells": [
    {
      "cell_type": "markdown",
      "metadata": {
        "id": "c0-kFZuui3gD",
        "colab_type": "text"
      },
      "source": [
        "We learn the theoratical concepts from abc institute but fail to implement in real world. Here we will see the use of hypothesis in Model Building."
      ]
    },
    {
      "cell_type": "markdown",
      "metadata": {
        "id": "eIyTz3gZjHtp",
        "colab_type": "text"
      },
      "source": [
        "What are we going to learn ?\n",
        "\n",
        "1. Different types of hypothesis testing.\n",
        "2. Their implications in model building.\n"
      ]
    },
    {
      "cell_type": "markdown",
      "metadata": {
        "id": "9ugAkv2GsCxG",
        "colab_type": "text"
      },
      "source": [
        "## T- Test\n",
        "T-test is mostly used to check the difference in the means of two samples"
      ]
    },
    {
      "cell_type": "markdown",
      "metadata": {
        "id": "12fux4p5spM_",
        "colab_type": "text"
      },
      "source": [
        "###Pre-processing"
      ]
    },
    {
      "cell_type": "markdown",
      "metadata": {
        "id": "g3ieOT20tAml",
        "colab_type": "text"
      },
      "source": [
        "The first step always is to pre-process the dataset."
      ]
    },
    {
      "cell_type": "code",
      "metadata": {
        "id": "E4dmDcJYguer",
        "colab_type": "code",
        "outputId": "00f9c884-4530-4461-9b53-ff5bde235dc4",
        "colab": {
          "base_uri": "https://localhost:8080/",
          "height": 170
        }
      },
      "source": [
        "#install researchpy\n",
        "!pip install researchpy\n",
        "## it combines pandas, scipy.stats and statsmodels to \n",
        "            ##get more complete information in a single API call"
      ],
      "execution_count": 0,
      "outputs": [
        {
          "output_type": "stream",
          "text": [
            "Requirement already satisfied: researchpy in /usr/local/lib/python3.6/dist-packages (0.1.9)\n",
            "Requirement already satisfied: numpy in /usr/local/lib/python3.6/dist-packages (from researchpy) (1.18.2)\n",
            "Requirement already satisfied: pandas in /usr/local/lib/python3.6/dist-packages (from researchpy) (1.0.3)\n",
            "Requirement already satisfied: scipy in /usr/local/lib/python3.6/dist-packages (from researchpy) (1.4.1)\n",
            "Requirement already satisfied: statsmodels in /usr/local/lib/python3.6/dist-packages (from researchpy) (0.10.2)\n",
            "Requirement already satisfied: pytz>=2017.2 in /usr/local/lib/python3.6/dist-packages (from pandas->researchpy) (2018.9)\n",
            "Requirement already satisfied: python-dateutil>=2.6.1 in /usr/local/lib/python3.6/dist-packages (from pandas->researchpy) (2.8.1)\n",
            "Requirement already satisfied: patsy>=0.4.0 in /usr/local/lib/python3.6/dist-packages (from statsmodels->researchpy) (0.5.1)\n",
            "Requirement already satisfied: six>=1.5 in /usr/local/lib/python3.6/dist-packages (from python-dateutil>=2.6.1->pandas->researchpy) (1.12.0)\n"
          ],
          "name": "stdout"
        }
      ]
    },
    {
      "cell_type": "code",
      "metadata": {
        "id": "5kTgXnXJg7vB",
        "colab_type": "code",
        "colab": {}
      },
      "source": [
        "#import the libraries\n",
        "import statsmodels.api as sm\n",
        "import pandas as pd\n",
        "import numpy as np\n",
        "import seaborn as sns\n",
        "import matplotlib.pyplot as plt\n",
        "from sklearn.preprocessing import scale\n",
        "import researchpy as rc\n",
        "import warnings\n",
        "from scipy import stats\n",
        "%matplotlib inline"
      ],
      "execution_count": 0,
      "outputs": []
    },
    {
      "cell_type": "code",
      "metadata": {
        "id": "2DRzpqrPg7zJ",
        "colab_type": "code",
        "colab": {}
      },
      "source": [
        "#read the data\n",
        "df = pd.read_csv('/content/drive/My Drive/data_set/bike_sharing.csv')"
      ],
      "execution_count": 0,
      "outputs": []
    },
    {
      "cell_type": "code",
      "metadata": {
        "id": "vRG25rT-g72L",
        "colab_type": "code",
        "outputId": "12d6a07e-e6e5-491f-b0ad-d5f8511f8404",
        "colab": {
          "base_uri": "https://localhost:8080/",
          "height": 34
        }
      },
      "source": [
        "#check the shape \n",
        "df.shape"
      ],
      "execution_count": 0,
      "outputs": [
        {
          "output_type": "execute_result",
          "data": {
            "text/plain": [
              "(10886, 12)"
            ]
          },
          "metadata": {
            "tags": []
          },
          "execution_count": 98
        }
      ]
    },
    {
      "cell_type": "code",
      "metadata": {
        "id": "AnC_68h3g75m",
        "colab_type": "code",
        "outputId": "9829861c-c23c-4b56-e685-a7821471d732",
        "colab": {
          "base_uri": "https://localhost:8080/",
          "height": 204
        }
      },
      "source": [
        "#check the head\n",
        "df.head()"
      ],
      "execution_count": 0,
      "outputs": [
        {
          "output_type": "execute_result",
          "data": {
            "text/html": [
              "<div>\n",
              "<style scoped>\n",
              "    .dataframe tbody tr th:only-of-type {\n",
              "        vertical-align: middle;\n",
              "    }\n",
              "\n",
              "    .dataframe tbody tr th {\n",
              "        vertical-align: top;\n",
              "    }\n",
              "\n",
              "    .dataframe thead th {\n",
              "        text-align: right;\n",
              "    }\n",
              "</style>\n",
              "<table border=\"1\" class=\"dataframe\">\n",
              "  <thead>\n",
              "    <tr style=\"text-align: right;\">\n",
              "      <th></th>\n",
              "      <th>datetime</th>\n",
              "      <th>season</th>\n",
              "      <th>holiday</th>\n",
              "      <th>workingday</th>\n",
              "      <th>weather</th>\n",
              "      <th>temp</th>\n",
              "      <th>atemp</th>\n",
              "      <th>humidity</th>\n",
              "      <th>windspeed</th>\n",
              "      <th>casual</th>\n",
              "      <th>registered</th>\n",
              "      <th>count</th>\n",
              "    </tr>\n",
              "  </thead>\n",
              "  <tbody>\n",
              "    <tr>\n",
              "      <th>0</th>\n",
              "      <td>2011-01-01 00:00:00</td>\n",
              "      <td>1</td>\n",
              "      <td>0</td>\n",
              "      <td>0</td>\n",
              "      <td>1</td>\n",
              "      <td>9.84</td>\n",
              "      <td>14.395</td>\n",
              "      <td>81</td>\n",
              "      <td>0.0</td>\n",
              "      <td>3</td>\n",
              "      <td>13</td>\n",
              "      <td>16</td>\n",
              "    </tr>\n",
              "    <tr>\n",
              "      <th>1</th>\n",
              "      <td>2011-01-01 01:00:00</td>\n",
              "      <td>1</td>\n",
              "      <td>0</td>\n",
              "      <td>0</td>\n",
              "      <td>1</td>\n",
              "      <td>9.02</td>\n",
              "      <td>13.635</td>\n",
              "      <td>80</td>\n",
              "      <td>0.0</td>\n",
              "      <td>8</td>\n",
              "      <td>32</td>\n",
              "      <td>40</td>\n",
              "    </tr>\n",
              "    <tr>\n",
              "      <th>2</th>\n",
              "      <td>2011-01-01 02:00:00</td>\n",
              "      <td>1</td>\n",
              "      <td>0</td>\n",
              "      <td>0</td>\n",
              "      <td>1</td>\n",
              "      <td>9.02</td>\n",
              "      <td>13.635</td>\n",
              "      <td>80</td>\n",
              "      <td>0.0</td>\n",
              "      <td>5</td>\n",
              "      <td>27</td>\n",
              "      <td>32</td>\n",
              "    </tr>\n",
              "    <tr>\n",
              "      <th>3</th>\n",
              "      <td>2011-01-01 03:00:00</td>\n",
              "      <td>1</td>\n",
              "      <td>0</td>\n",
              "      <td>0</td>\n",
              "      <td>1</td>\n",
              "      <td>9.84</td>\n",
              "      <td>14.395</td>\n",
              "      <td>75</td>\n",
              "      <td>0.0</td>\n",
              "      <td>3</td>\n",
              "      <td>10</td>\n",
              "      <td>13</td>\n",
              "    </tr>\n",
              "    <tr>\n",
              "      <th>4</th>\n",
              "      <td>2011-01-01 04:00:00</td>\n",
              "      <td>1</td>\n",
              "      <td>0</td>\n",
              "      <td>0</td>\n",
              "      <td>1</td>\n",
              "      <td>9.84</td>\n",
              "      <td>14.395</td>\n",
              "      <td>75</td>\n",
              "      <td>0.0</td>\n",
              "      <td>0</td>\n",
              "      <td>1</td>\n",
              "      <td>1</td>\n",
              "    </tr>\n",
              "  </tbody>\n",
              "</table>\n",
              "</div>"
            ],
            "text/plain": [
              "              datetime  season  holiday  ...  casual  registered  count\n",
              "0  2011-01-01 00:00:00       1        0  ...       3          13     16\n",
              "1  2011-01-01 01:00:00       1        0  ...       8          32     40\n",
              "2  2011-01-01 02:00:00       1        0  ...       5          27     32\n",
              "3  2011-01-01 03:00:00       1        0  ...       3          10     13\n",
              "4  2011-01-01 04:00:00       1        0  ...       0           1      1\n",
              "\n",
              "[5 rows x 12 columns]"
            ]
          },
          "metadata": {
            "tags": []
          },
          "execution_count": 99
        }
      ]
    },
    {
      "cell_type": "code",
      "metadata": {
        "id": "lINZmfCfg79E",
        "colab_type": "code",
        "outputId": "0a771c58-1271-46e0-912f-22d5c49d32f0",
        "colab": {
          "base_uri": "https://localhost:8080/",
          "height": 340
        }
      },
      "source": [
        "#check the information\n",
        "df.info()"
      ],
      "execution_count": 0,
      "outputs": [
        {
          "output_type": "stream",
          "text": [
            "<class 'pandas.core.frame.DataFrame'>\n",
            "RangeIndex: 10886 entries, 0 to 10885\n",
            "Data columns (total 12 columns):\n",
            " #   Column      Non-Null Count  Dtype  \n",
            "---  ------      --------------  -----  \n",
            " 0   datetime    10886 non-null  object \n",
            " 1   season      10886 non-null  int64  \n",
            " 2   holiday     10886 non-null  int64  \n",
            " 3   workingday  10886 non-null  int64  \n",
            " 4   weather     10886 non-null  int64  \n",
            " 5   temp        10886 non-null  float64\n",
            " 6   atemp       10886 non-null  float64\n",
            " 7   humidity    10886 non-null  int64  \n",
            " 8   windspeed   10886 non-null  float64\n",
            " 9   casual      10886 non-null  int64  \n",
            " 10  registered  10886 non-null  int64  \n",
            " 11  count       10886 non-null  int64  \n",
            "dtypes: float64(3), int64(8), object(1)\n",
            "memory usage: 1020.7+ KB\n"
          ],
          "name": "stdout"
        }
      ]
    },
    {
      "cell_type": "markdown",
      "metadata": {
        "id": "0z75rDu5mhQz",
        "colab_type": "text"
      },
      "source": [
        "1. Most of the values are int64 and float64 types. \n",
        "2. Only datetime feature is object type. And We can see there are no null values."
      ]
    },
    {
      "cell_type": "code",
      "metadata": {
        "id": "EBRQRtJRr-HX",
        "colab_type": "code",
        "outputId": "37b5d52c-ac23-4518-d8a5-7407aa429884",
        "colab": {
          "base_uri": "https://localhost:8080/",
          "height": 238
        }
      },
      "source": [
        "#check the number of null values in each column\n",
        "df.isnull().sum()"
      ],
      "execution_count": 0,
      "outputs": [
        {
          "output_type": "execute_result",
          "data": {
            "text/plain": [
              "datetime      0\n",
              "season        0\n",
              "holiday       0\n",
              "workingday    0\n",
              "weather       0\n",
              "temp          0\n",
              "atemp         0\n",
              "humidity      0\n",
              "windspeed     0\n",
              "casual        0\n",
              "registered    0\n",
              "count         0\n",
              "dtype: int64"
            ]
          },
          "metadata": {
            "tags": []
          },
          "execution_count": 101
        }
      ]
    },
    {
      "cell_type": "code",
      "metadata": {
        "id": "-EWvn0ChuS2P",
        "colab_type": "code",
        "outputId": "6221a16a-074f-40e5-eabf-3f10cc6660b3",
        "colab": {
          "base_uri": "https://localhost:8080/",
          "height": 34
        }
      },
      "source": [
        "df['atemp'].corr(df['temp'])  #atemp and temp are correlated"
      ],
      "execution_count": 0,
      "outputs": [
        {
          "output_type": "execute_result",
          "data": {
            "text/plain": [
              "0.9849481104817068"
            ]
          },
          "metadata": {
            "tags": []
          },
          "execution_count": 102
        }
      ]
    },
    {
      "cell_type": "markdown",
      "metadata": {
        "id": "R0c6tfeynUCl",
        "colab_type": "text"
      },
      "source": [
        "Atemp and temp has correlation of 0.985. They are providing the same information. We will drop the atemp feature and also datetime for our simplicity."
      ]
    },
    {
      "cell_type": "code",
      "metadata": {
        "id": "B6mS1Je0g7_t",
        "colab_type": "code",
        "colab": {}
      },
      "source": [
        "#drop datetime\n",
        "df.drop(['datetime','atemp'],axis = 1,inplace=True)"
      ],
      "execution_count": 0,
      "outputs": []
    },
    {
      "cell_type": "markdown",
      "metadata": {
        "id": "3sx4nMV5phNU",
        "colab_type": "text"
      },
      "source": [
        "Now check the columns. Keep in mind that we have dropped datetime and atemp from our dataset."
      ]
    },
    {
      "cell_type": "code",
      "metadata": {
        "id": "5AoNu7tBg8EJ",
        "colab_type": "code",
        "outputId": "4d0c655d-de6c-46dd-d7f3-8d244028369e",
        "colab": {
          "base_uri": "https://localhost:8080/",
          "height": 204
        }
      },
      "source": [
        "#check the unique values in each column\n",
        "df.apply(lambda x : x.nunique())"
      ],
      "execution_count": 0,
      "outputs": [
        {
          "output_type": "execute_result",
          "data": {
            "text/plain": [
              "season          4\n",
              "holiday         2\n",
              "workingday      2\n",
              "weather         4\n",
              "temp           49\n",
              "humidity       89\n",
              "windspeed      28\n",
              "casual        309\n",
              "registered    731\n",
              "count         822\n",
              "dtype: int64"
            ]
          },
          "metadata": {
            "tags": []
          },
          "execution_count": 104
        }
      ]
    },
    {
      "cell_type": "code",
      "metadata": {
        "id": "VnGk2wbawI4n",
        "colab_type": "code",
        "outputId": "4224cbc4-4c8c-46a1-b5d8-cf6a4f61d5d9",
        "colab": {
          "base_uri": "https://localhost:8080/",
          "height": 136
        }
      },
      "source": [
        "#standardize all the numerical features\n",
        "num_scaled = scale (df[['temp','humidity','windspeed','casual','registered']],copy=False)   \n",
        "#scale takes the difference of each values from the mean and divide by standard deviation\n",
        "num_scaled"
      ],
      "execution_count": 0,
      "outputs": [
        {
          "output_type": "execute_result",
          "data": {
            "text/plain": [
              "array([[-1.33366069,  0.99321305, -1.56775367, -0.66099193, -0.94385353],\n",
              "       [-1.43890721,  0.94124921, -1.56775367, -0.56090822, -0.81805246],\n",
              "       [-1.43890721,  0.94124921, -1.56775367, -0.62095844, -0.851158  ],\n",
              "       ...,\n",
              "       [-0.80742813, -0.04606385,  0.26970368, -0.64097518,  0.05593396],\n",
              "       [-0.80742813, -0.04606385, -0.83244247, -0.48084125, -0.25525818],\n",
              "       [-0.91267464,  0.21375537, -0.46560752, -0.64097518, -0.47375478]])"
            ]
          },
          "metadata": {
            "tags": []
          },
          "execution_count": 105
        }
      ]
    },
    {
      "cell_type": "markdown",
      "metadata": {
        "id": "RwgeliavwDq6",
        "colab_type": "text"
      },
      "source": [
        "###Preparing Data for t-test"
      ]
    },
    {
      "cell_type": "markdown",
      "metadata": {
        "id": "snDdAb-vqGqj",
        "colab_type": "text"
      },
      "source": [
        "Now we will perform t-test to check whether the number of bike rentals are dependent on workingday or not. For this we will use two sample t-test."
      ]
    },
    {
      "cell_type": "markdown",
      "metadata": {
        "id": "8fGrt5o6qXpg",
        "colab_type": "text"
      },
      "source": [
        "Two sample t-test is used to check whether the means of two samples(group) are same or different. We want to check whether the number of bikes rented on working day are different then number of bikes rented on non-working days."
      ]
    },
    {
      "cell_type": "markdown",
      "metadata": {
        "id": "84VMecLmp2T8",
        "colab_type": "text"
      },
      "source": [
        "Let's check the mean of bikes rented on working and non-working days."
      ]
    },
    {
      "cell_type": "code",
      "metadata": {
        "id": "LmuOmOotosWd",
        "colab_type": "code",
        "outputId": "18e7d0b3-4b58-4a45-8e54-a6be92587af1",
        "colab": {
          "base_uri": "https://localhost:8080/",
          "height": 142
        }
      },
      "source": [
        "df.groupby('workingday')['count'].describe()"
      ],
      "execution_count": 0,
      "outputs": [
        {
          "output_type": "execute_result",
          "data": {
            "text/html": [
              "<div>\n",
              "<style scoped>\n",
              "    .dataframe tbody tr th:only-of-type {\n",
              "        vertical-align: middle;\n",
              "    }\n",
              "\n",
              "    .dataframe tbody tr th {\n",
              "        vertical-align: top;\n",
              "    }\n",
              "\n",
              "    .dataframe thead th {\n",
              "        text-align: right;\n",
              "    }\n",
              "</style>\n",
              "<table border=\"1\" class=\"dataframe\">\n",
              "  <thead>\n",
              "    <tr style=\"text-align: right;\">\n",
              "      <th></th>\n",
              "      <th>count</th>\n",
              "      <th>mean</th>\n",
              "      <th>std</th>\n",
              "      <th>min</th>\n",
              "      <th>25%</th>\n",
              "      <th>50%</th>\n",
              "      <th>75%</th>\n",
              "      <th>max</th>\n",
              "    </tr>\n",
              "    <tr>\n",
              "      <th>workingday</th>\n",
              "      <th></th>\n",
              "      <th></th>\n",
              "      <th></th>\n",
              "      <th></th>\n",
              "      <th></th>\n",
              "      <th></th>\n",
              "      <th></th>\n",
              "      <th></th>\n",
              "    </tr>\n",
              "  </thead>\n",
              "  <tbody>\n",
              "    <tr>\n",
              "      <th>0</th>\n",
              "      <td>3474.0</td>\n",
              "      <td>188.506621</td>\n",
              "      <td>173.724015</td>\n",
              "      <td>1.0</td>\n",
              "      <td>44.0</td>\n",
              "      <td>128.0</td>\n",
              "      <td>304.0</td>\n",
              "      <td>783.0</td>\n",
              "    </tr>\n",
              "    <tr>\n",
              "      <th>1</th>\n",
              "      <td>7412.0</td>\n",
              "      <td>193.011873</td>\n",
              "      <td>184.513659</td>\n",
              "      <td>1.0</td>\n",
              "      <td>41.0</td>\n",
              "      <td>151.0</td>\n",
              "      <td>277.0</td>\n",
              "      <td>977.0</td>\n",
              "    </tr>\n",
              "  </tbody>\n",
              "</table>\n",
              "</div>"
            ],
            "text/plain": [
              "             count        mean         std  min   25%    50%    75%    max\n",
              "workingday                                                                \n",
              "0           3474.0  188.506621  173.724015  1.0  44.0  128.0  304.0  783.0\n",
              "1           7412.0  193.011873  184.513659  1.0  41.0  151.0  277.0  977.0"
            ]
          },
          "metadata": {
            "tags": []
          },
          "execution_count": 106
        }
      ]
    },
    {
      "cell_type": "markdown",
      "metadata": {
        "id": "BDKYAEP9sZe7",
        "colab_type": "text"
      },
      "source": [
        "We can see that mean on working days is 193.0 and mean on the non-working day is 188.5. Definitely we can see that there is difference in the means of working and non working days."
      ]
    },
    {
      "cell_type": "markdown",
      "metadata": {
        "id": "45m4hCpxtBAH",
        "colab_type": "text"
      },
      "source": [
        "But the quetsion is, is this difference in the mean stastically significant or was it just due to random chance ?"
      ]
    },
    {
      "cell_type": "markdown",
      "metadata": {
        "id": "SLBoMu-Otkpw",
        "colab_type": "text"
      },
      "source": [
        "Steps for performing hypothesis testing.\n",
        "1. set up Null Hypothesis (H0)\n",
        "2. State the alternate hypothesis (H1)\n",
        "3. Set a significance level (alpha)\n",
        "4. Calculate test Statistics.\n",
        "5. Decision to accept or reject null hypothesis."
      ]
    },
    {
      "cell_type": "code",
      "metadata": {
        "id": "L5Wmz-E9g8HI",
        "colab_type": "code",
        "colab": {}
      },
      "source": [
        "#create 2 samples one for working days and one for non-working days\n",
        "sample_01 = df[df['workingday'] == 1]   \n",
        "sample_02 = df[df['workingday'] == 0]"
      ],
      "execution_count": 0,
      "outputs": []
    },
    {
      "cell_type": "code",
      "metadata": {
        "id": "s7h9q5gag8KV",
        "colab_type": "code",
        "outputId": "206f6268-60bb-498b-a685-b915898a7fbc",
        "colab": {
          "base_uri": "https://localhost:8080/",
          "height": 34
        }
      },
      "source": [
        "#check the shape of both the samples\n",
        "print(sample_01.shape,sample_02.shape)"
      ],
      "execution_count": 0,
      "outputs": [
        {
          "output_type": "stream",
          "text": [
            "(7412, 10) (3474, 10)\n"
          ],
          "name": "stdout"
        }
      ]
    },
    {
      "cell_type": "markdown",
      "metadata": {
        "id": "hRe3u8RA3kW0",
        "colab_type": "text"
      },
      "source": [
        "sample_01 have 7412 observations whereas sample_02 only have 3474 obsrvations. We have to take equal number of observations in both the sample."
      ]
    },
    {
      "cell_type": "code",
      "metadata": {
        "id": "4BFZMkLng8OC",
        "colab_type": "code",
        "outputId": "5d2658d3-fbc1-4761-8b52-a16e009bc968",
        "colab": {
          "base_uri": "https://localhost:8080/",
          "height": 34
        }
      },
      "source": [
        "#make equal number of records in each sample\n",
        "sample_01 = sample_01.sample(3474)\n",
        "print(sample_01.shape,sample_02.shape)"
      ],
      "execution_count": 0,
      "outputs": [
        {
          "output_type": "stream",
          "text": [
            "(3474, 10) (3474, 10)\n"
          ],
          "name": "stdout"
        }
      ]
    },
    {
      "cell_type": "markdown",
      "metadata": {
        "id": "AtK1G-qx4ies",
        "colab_type": "text"
      },
      "source": [
        "Before directly jumping for hypothesis testing we have to check for different assumptions related to the kind of hypothesis test we want to perform."
      ]
    },
    {
      "cell_type": "markdown",
      "metadata": {
        "id": "q4hLo94Y5Iy0",
        "colab_type": "text"
      },
      "source": [
        "##Assumption for T-Test\n",
        "1. The variances of the 2 samples are equal(We will use Levene's test to check this assumption).\n",
        "2. The distrubtion of the residuals b/w the two groups should follow the normal distribution. We can plot histogram and see whether the distribution follows the normal distribution or not. We can also plot a Q-Q plot. We can check the normality using shapiro-wilks test as well.\n"
      ]
    },
    {
      "cell_type": "code",
      "metadata": {
        "id": "SBBiN9l_g8RS",
        "colab_type": "code",
        "colab": {}
      },
      "source": [
        "#Levene's test to check whether the variances of the two group are same.\n",
        "#H0 : Variances are same.\n",
        "#H1 : Variances are not same.\n",
        "#Alpha = 0.05%\n",
        "#if p-value > alpha (Cannot reject H0)\n",
        "#if p-value < alpha (Accept null hypothesis)"
      ],
      "execution_count": 0,
      "outputs": []
    },
    {
      "cell_type": "code",
      "metadata": {
        "id": "gfNV4Yt6g8Up",
        "colab_type": "code",
        "outputId": "d1838a2a-61ef-4766-b70f-9819f8e51156",
        "colab": {
          "base_uri": "https://localhost:8080/",
          "height": 85
        }
      },
      "source": [
        "alpha = 0.05\n",
        "Stats,Pvalue = stats.levene(sample_01['count'],sample_01['count'])\n",
        "print(f' Test statistics : {Stats} \\n Alpha : {alpha} \\n P-value : {Pvalue}')\n",
        "if Pvalue > alpha:\n",
        "  print(' Variances are same accept null hypothesis ')\n",
        "else:\n",
        "  print(' Variances are not same reject not null hypothesis ')"
      ],
      "execution_count": 0,
      "outputs": [
        {
          "output_type": "stream",
          "text": [
            " Test statistics : 0.0 \n",
            " Alpha : 0.05 \n",
            " P-value : 1.0\n",
            " Variances are same accept null hypothesis \n"
          ],
          "name": "stdout"
        }
      ]
    },
    {
      "cell_type": "markdown",
      "metadata": {
        "id": "lkUpEW9k8Ws5",
        "colab_type": "text"
      },
      "source": [
        "Here we have got 2 things:\n",
        "\n",
        "1. Test Statistics \n",
        "2. And p-value assosciated with test stastics.\n",
        "We can see that p-value(1.0) > alpha(0.05). So we fail to reject the null hypothesis. Variances of the 2 samples are equal."
      ]
    },
    {
      "cell_type": "markdown",
      "metadata": {
        "id": "jZ4X-xmPAEus",
        "colab_type": "text"
      },
      "source": [
        "###Check for normality"
      ]
    },
    {
      "cell_type": "markdown",
      "metadata": {
        "id": "O1APDWWh1Xty",
        "colab_type": "text"
      },
      "source": [
        "Take the difference between two samples and scale it to check the normality of the residuals."
      ]
    },
    {
      "cell_type": "code",
      "metadata": {
        "id": "qDePGQZ0g8Y9",
        "colab_type": "code",
        "outputId": "0737cda1-38e2-4c50-c8f5-518b59cbd76e",
        "colab": {
          "base_uri": "https://localhost:8080/",
          "height": 374
        }
      },
      "source": [
        "#we will take the difference b/w sample_01 and sample_02 and plot a histogram to check for normality\n",
        "#we will scale the difference\n",
        "diff = scale((np.array(sample_01['count']) - np.array(sample_02['count'])))\n",
        "plt.figure(figsize=(12,6))\n",
        "plt.hist(diff)\n",
        "plt.show()"
      ],
      "execution_count": 0,
      "outputs": [
        {
          "output_type": "display_data",
          "data": {
            "image/png": "[encoded data removed]",
            "text/plain": [
              "<Figure size 864x432 with 1 Axes>"
            ]
          },
          "metadata": {
            "tags": [],
            "needs_background": "light"
          }
        }
      ]
    },
    {
      "cell_type": "markdown",
      "metadata": {
        "id": "KM18KlygBkMR",
        "colab_type": "text"
      },
      "source": [
        "The distribution seems very close to normal distribution. Let's check other methods to check the normality of the residuals."
      ]
    },
    {
      "cell_type": "markdown",
      "metadata": {
        "id": "rNDWLi1r19Oy",
        "colab_type": "text"
      },
      "source": [
        "Q-Q plot, Generates the a probability of sample data against the quantiles of theoretical distributions."
      ]
    },
    {
      "cell_type": "code",
      "metadata": {
        "id": "cvc8Ad1g5y5a",
        "colab_type": "code",
        "outputId": "56aa34d7-7c05-41c7-827e-0b54f6face32",
        "colab": {
          "base_uri": "https://localhost:8080/",
          "height": 404
        }
      },
      "source": [
        "#q-q plot to check the normality\n",
        "plt.figure(figsize=(12,6))\n",
        "stats.probplot(diff,plot=plt,dist='norm')\n",
        "plt.show()"
      ],
      "execution_count": 0,
      "outputs": [
        {
          "output_type": "display_data",
          "data": {
            "image/png": "[encoded data removed]",
            "text/plain": [
              "<Figure size 864x432 with 1 Axes>"
            ]
          },
          "metadata": {
            "tags": [],
            "needs_background": "light"
          }
        }
      ]
    },
    {
      "cell_type": "markdown",
      "metadata": {
        "id": "p0if5XOZ2gma",
        "colab_type": "text"
      },
      "source": [
        "When the points are closely follows the redline we can say that the residulas are normally distributed. Here we see that after 2 standard deviation the points are scattered from redline. They doesn't follow the redline. But most of the data points are still close to the redline so we accept the assumption of normality."
      ]
    },
    {
      "cell_type": "markdown",
      "metadata": {
        "id": "idDfja603Knx",
        "colab_type": "text"
      },
      "source": [
        "Till now we have seen graphical methods to represent to check the assumption of normality. Now let's check is it with statstical test (Shapiro-Wilk Test)"
      ]
    },
    {
      "cell_type": "code",
      "metadata": {
        "id": "GIlQJfn75zAh",
        "colab_type": "code",
        "colab": {}
      },
      "source": [
        "#Stastical test for checking normality\n",
        "#Shapiro-wilk test\n",
        "#H0 : Normally distributed\n",
        "#H1 : Not Normally distributed"
      ],
      "execution_count": 0,
      "outputs": []
    },
    {
      "cell_type": "code",
      "metadata": {
        "id": "5gH3lSWZ-aCa",
        "colab_type": "code",
        "outputId": "665c2744-e747-4b6d-e1ef-4812358eb189",
        "colab": {
          "base_uri": "https://localhost:8080/",
          "height": 34
        }
      },
      "source": [
        "alpha = 0.05\n",
        "statistic,p_value = stats.shapiro(diff)\n",
        "if p_value > alpha:\n",
        "  print(f'Accept Null Hypothesis p-value : {p_value}')\n",
        "else:\n",
        "  print(f'Reject Null Hypothesis p-value : {p_value}')"
      ],
      "execution_count": 0,
      "outputs": [
        {
          "output_type": "stream",
          "text": [
            "Reject Null Hypothesis p-value : 2.197166195727976e-14\n"
          ],
          "name": "stdout"
        }
      ]
    },
    {
      "cell_type": "markdown",
      "metadata": {
        "id": "TrXmNl9W8UIO",
        "colab_type": "text"
      },
      "source": [
        "Here shapiro wilk test shows that the residuals are not normally distributed. for demonstration purpose We will continue with t-test, but in practice we should not perform t-test when the assumption of normality is voilated. "
      ]
    },
    {
      "cell_type": "markdown",
      "metadata": {
        "id": "tfxAYTRTDuBQ",
        "colab_type": "text"
      },
      "source": [
        "##Independent Sample T-test"
      ]
    },
    {
      "cell_type": "code",
      "metadata": {
        "id": "ght1jQDx-aHX",
        "colab_type": "code",
        "outputId": "85ed2365-969c-4d6d-9749-263fa7afc015",
        "colab": {
          "base_uri": "https://localhost:8080/",
          "height": 34
        }
      },
      "source": [
        "# H0 : There's no difference in mean (Bike rental doesn't depends on workingday)\n",
        "# H1 : There's a difference in mean (Bike rental depends on workingday)\n",
        "# Alpha : 0.05%\n",
        "alpha = 0.05\n",
        "statistic , p_value = stats.ttest_ind(sample_01['count'],sample_02['count'])\n",
        "if p_value > alpha:\n",
        "  print(f'Fail to reject Null Hypothesis p-value is {p_value}')\n",
        "else:\n",
        "  print('Reject Null Hypothesis')"
      ],
      "execution_count": 0,
      "outputs": [
        {
          "output_type": "stream",
          "text": [
            "Fail to reject Null Hypothesis p-value is 0.06442712309437282\n"
          ],
          "name": "stdout"
        }
      ]
    },
    {
      "cell_type": "markdown",
      "metadata": {
        "id": "wg1LbIb57S6l",
        "colab_type": "text"
      },
      "source": [
        "As we can see that the p-value is greater than alpha. So we can't reject our null hypothesis. "
      ]
    },
    {
      "cell_type": "markdown",
      "metadata": {
        "id": "2NCgLAUe7tT8",
        "colab_type": "text"
      },
      "source": [
        "working day has no effect on number of bikes rented."
      ]
    },
    {
      "cell_type": "code",
      "metadata": {
        "id": "T1IH0W497sOF",
        "colab_type": "code",
        "colab": {}
      },
      "source": [
        ""
      ],
      "execution_count": 0,
      "outputs": []
    }
  ]
}